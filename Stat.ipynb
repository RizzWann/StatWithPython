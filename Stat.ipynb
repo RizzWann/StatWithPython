{
 "cells": [
  {
   "cell_type": "code",
   "execution_count": 4,
   "id": "126211f7-f998-4ec4-8624-1b12486477d1",
   "metadata": {},
   "outputs": [],
   "source": [
    "import pandas as pd"
   ]
  },
  {
   "cell_type": "code",
   "execution_count": null,
   "id": "9c47b15d-8c0a-4079-9a10-f74353ce9ad6",
   "metadata": {},
   "outputs": [],
   "source": [
    "!pip install pandas"
   ]
  },
  {
   "cell_type": "code",
   "execution_count": 6,
   "id": "0efdc85e-dfc9-4297-ba74-c53a473c5f85",
   "metadata": {},
   "outputs": [],
   "source": [
    "url=\"E:/DS/Datasets/NHANES.csv\"\n",
    "da=pd.read_csv(url)"
   ]
  },
  {
   "cell_type": "code",
   "execution_count": 7,
   "id": "f8249ab3-754d-453b-8ed3-19f941dd0cdc",
   "metadata": {},
   "outputs": [
    {
     "data": {
      "text/html": [
       "<div>\n",
       "<style scoped>\n",
       "    .dataframe tbody tr th:only-of-type {\n",
       "        vertical-align: middle;\n",
       "    }\n",
       "\n",
       "    .dataframe tbody tr th {\n",
       "        vertical-align: top;\n",
       "    }\n",
       "\n",
       "    .dataframe thead th {\n",
       "        text-align: right;\n",
       "    }\n",
       "</style>\n",
       "<table border=\"1\" class=\"dataframe\">\n",
       "  <thead>\n",
       "    <tr style=\"text-align: right;\">\n",
       "      <th></th>\n",
       "      <th>SEQN</th>\n",
       "      <th>ALQ101</th>\n",
       "      <th>ALQ110</th>\n",
       "      <th>ALQ130</th>\n",
       "      <th>SMQ020</th>\n",
       "      <th>RIAGENDR</th>\n",
       "      <th>RIDAGEYR</th>\n",
       "      <th>RIDRETH1</th>\n",
       "      <th>DMDCITZN</th>\n",
       "      <th>DMDEDUC2</th>\n",
       "      <th>...</th>\n",
       "      <th>BPXSY2</th>\n",
       "      <th>BPXDI2</th>\n",
       "      <th>BMXWT</th>\n",
       "      <th>BMXHT</th>\n",
       "      <th>BMXBMI</th>\n",
       "      <th>BMXLEG</th>\n",
       "      <th>BMXARML</th>\n",
       "      <th>BMXARMC</th>\n",
       "      <th>BMXWAIST</th>\n",
       "      <th>HIQ210</th>\n",
       "    </tr>\n",
       "  </thead>\n",
       "  <tbody>\n",
       "    <tr>\n",
       "      <th>0</th>\n",
       "      <td>83732</td>\n",
       "      <td>1.0</td>\n",
       "      <td>NaN</td>\n",
       "      <td>1.0</td>\n",
       "      <td>1</td>\n",
       "      <td>1</td>\n",
       "      <td>62</td>\n",
       "      <td>3</td>\n",
       "      <td>1.0</td>\n",
       "      <td>5.0</td>\n",
       "      <td>...</td>\n",
       "      <td>124.0</td>\n",
       "      <td>64.0</td>\n",
       "      <td>94.8</td>\n",
       "      <td>184.5</td>\n",
       "      <td>27.8</td>\n",
       "      <td>43.3</td>\n",
       "      <td>43.6</td>\n",
       "      <td>35.9</td>\n",
       "      <td>101.1</td>\n",
       "      <td>2.0</td>\n",
       "    </tr>\n",
       "    <tr>\n",
       "      <th>1</th>\n",
       "      <td>83733</td>\n",
       "      <td>1.0</td>\n",
       "      <td>NaN</td>\n",
       "      <td>6.0</td>\n",
       "      <td>1</td>\n",
       "      <td>1</td>\n",
       "      <td>53</td>\n",
       "      <td>3</td>\n",
       "      <td>2.0</td>\n",
       "      <td>3.0</td>\n",
       "      <td>...</td>\n",
       "      <td>140.0</td>\n",
       "      <td>88.0</td>\n",
       "      <td>90.4</td>\n",
       "      <td>171.4</td>\n",
       "      <td>30.8</td>\n",
       "      <td>38.0</td>\n",
       "      <td>40.0</td>\n",
       "      <td>33.2</td>\n",
       "      <td>107.9</td>\n",
       "      <td>NaN</td>\n",
       "    </tr>\n",
       "    <tr>\n",
       "      <th>2</th>\n",
       "      <td>83734</td>\n",
       "      <td>1.0</td>\n",
       "      <td>NaN</td>\n",
       "      <td>NaN</td>\n",
       "      <td>1</td>\n",
       "      <td>1</td>\n",
       "      <td>78</td>\n",
       "      <td>3</td>\n",
       "      <td>1.0</td>\n",
       "      <td>3.0</td>\n",
       "      <td>...</td>\n",
       "      <td>132.0</td>\n",
       "      <td>44.0</td>\n",
       "      <td>83.4</td>\n",
       "      <td>170.1</td>\n",
       "      <td>28.8</td>\n",
       "      <td>35.6</td>\n",
       "      <td>37.0</td>\n",
       "      <td>31.0</td>\n",
       "      <td>116.5</td>\n",
       "      <td>2.0</td>\n",
       "    </tr>\n",
       "    <tr>\n",
       "      <th>3</th>\n",
       "      <td>83735</td>\n",
       "      <td>2.0</td>\n",
       "      <td>1.0</td>\n",
       "      <td>1.0</td>\n",
       "      <td>2</td>\n",
       "      <td>2</td>\n",
       "      <td>56</td>\n",
       "      <td>3</td>\n",
       "      <td>1.0</td>\n",
       "      <td>5.0</td>\n",
       "      <td>...</td>\n",
       "      <td>134.0</td>\n",
       "      <td>68.0</td>\n",
       "      <td>109.8</td>\n",
       "      <td>160.9</td>\n",
       "      <td>42.4</td>\n",
       "      <td>38.5</td>\n",
       "      <td>37.7</td>\n",
       "      <td>38.3</td>\n",
       "      <td>110.1</td>\n",
       "      <td>2.0</td>\n",
       "    </tr>\n",
       "    <tr>\n",
       "      <th>4</th>\n",
       "      <td>83736</td>\n",
       "      <td>2.0</td>\n",
       "      <td>1.0</td>\n",
       "      <td>1.0</td>\n",
       "      <td>2</td>\n",
       "      <td>2</td>\n",
       "      <td>42</td>\n",
       "      <td>4</td>\n",
       "      <td>1.0</td>\n",
       "      <td>4.0</td>\n",
       "      <td>...</td>\n",
       "      <td>114.0</td>\n",
       "      <td>54.0</td>\n",
       "      <td>55.2</td>\n",
       "      <td>164.9</td>\n",
       "      <td>20.3</td>\n",
       "      <td>37.4</td>\n",
       "      <td>36.0</td>\n",
       "      <td>27.2</td>\n",
       "      <td>80.4</td>\n",
       "      <td>2.0</td>\n",
       "    </tr>\n",
       "    <tr>\n",
       "      <th>...</th>\n",
       "      <td>...</td>\n",
       "      <td>...</td>\n",
       "      <td>...</td>\n",
       "      <td>...</td>\n",
       "      <td>...</td>\n",
       "      <td>...</td>\n",
       "      <td>...</td>\n",
       "      <td>...</td>\n",
       "      <td>...</td>\n",
       "      <td>...</td>\n",
       "      <td>...</td>\n",
       "      <td>...</td>\n",
       "      <td>...</td>\n",
       "      <td>...</td>\n",
       "      <td>...</td>\n",
       "      <td>...</td>\n",
       "      <td>...</td>\n",
       "      <td>...</td>\n",
       "      <td>...</td>\n",
       "      <td>...</td>\n",
       "      <td>...</td>\n",
       "    </tr>\n",
       "    <tr>\n",
       "      <th>5730</th>\n",
       "      <td>93695</td>\n",
       "      <td>2.0</td>\n",
       "      <td>2.0</td>\n",
       "      <td>NaN</td>\n",
       "      <td>1</td>\n",
       "      <td>2</td>\n",
       "      <td>76</td>\n",
       "      <td>3</td>\n",
       "      <td>1.0</td>\n",
       "      <td>3.0</td>\n",
       "      <td>...</td>\n",
       "      <td>112.0</td>\n",
       "      <td>46.0</td>\n",
       "      <td>59.1</td>\n",
       "      <td>165.8</td>\n",
       "      <td>21.5</td>\n",
       "      <td>38.2</td>\n",
       "      <td>37.0</td>\n",
       "      <td>29.5</td>\n",
       "      <td>95.0</td>\n",
       "      <td>2.0</td>\n",
       "    </tr>\n",
       "    <tr>\n",
       "      <th>5731</th>\n",
       "      <td>93696</td>\n",
       "      <td>2.0</td>\n",
       "      <td>2.0</td>\n",
       "      <td>NaN</td>\n",
       "      <td>2</td>\n",
       "      <td>1</td>\n",
       "      <td>26</td>\n",
       "      <td>3</td>\n",
       "      <td>1.0</td>\n",
       "      <td>5.0</td>\n",
       "      <td>...</td>\n",
       "      <td>116.0</td>\n",
       "      <td>76.0</td>\n",
       "      <td>112.1</td>\n",
       "      <td>182.2</td>\n",
       "      <td>33.8</td>\n",
       "      <td>43.4</td>\n",
       "      <td>41.8</td>\n",
       "      <td>42.3</td>\n",
       "      <td>110.2</td>\n",
       "      <td>2.0</td>\n",
       "    </tr>\n",
       "    <tr>\n",
       "      <th>5732</th>\n",
       "      <td>93697</td>\n",
       "      <td>1.0</td>\n",
       "      <td>NaN</td>\n",
       "      <td>1.0</td>\n",
       "      <td>1</td>\n",
       "      <td>2</td>\n",
       "      <td>80</td>\n",
       "      <td>3</td>\n",
       "      <td>1.0</td>\n",
       "      <td>4.0</td>\n",
       "      <td>...</td>\n",
       "      <td>146.0</td>\n",
       "      <td>58.0</td>\n",
       "      <td>71.7</td>\n",
       "      <td>152.2</td>\n",
       "      <td>31.0</td>\n",
       "      <td>31.3</td>\n",
       "      <td>37.5</td>\n",
       "      <td>28.8</td>\n",
       "      <td>NaN</td>\n",
       "      <td>2.0</td>\n",
       "    </tr>\n",
       "    <tr>\n",
       "      <th>5733</th>\n",
       "      <td>93700</td>\n",
       "      <td>NaN</td>\n",
       "      <td>NaN</td>\n",
       "      <td>NaN</td>\n",
       "      <td>1</td>\n",
       "      <td>1</td>\n",
       "      <td>35</td>\n",
       "      <td>3</td>\n",
       "      <td>2.0</td>\n",
       "      <td>1.0</td>\n",
       "      <td>...</td>\n",
       "      <td>106.0</td>\n",
       "      <td>66.0</td>\n",
       "      <td>78.2</td>\n",
       "      <td>173.3</td>\n",
       "      <td>26.0</td>\n",
       "      <td>40.3</td>\n",
       "      <td>37.5</td>\n",
       "      <td>30.6</td>\n",
       "      <td>98.9</td>\n",
       "      <td>2.0</td>\n",
       "    </tr>\n",
       "    <tr>\n",
       "      <th>5734</th>\n",
       "      <td>93702</td>\n",
       "      <td>1.0</td>\n",
       "      <td>NaN</td>\n",
       "      <td>2.0</td>\n",
       "      <td>2</td>\n",
       "      <td>2</td>\n",
       "      <td>24</td>\n",
       "      <td>3</td>\n",
       "      <td>1.0</td>\n",
       "      <td>5.0</td>\n",
       "      <td>...</td>\n",
       "      <td>114.0</td>\n",
       "      <td>68.0</td>\n",
       "      <td>58.3</td>\n",
       "      <td>165.0</td>\n",
       "      <td>21.4</td>\n",
       "      <td>38.2</td>\n",
       "      <td>33.5</td>\n",
       "      <td>26.2</td>\n",
       "      <td>72.5</td>\n",
       "      <td>2.0</td>\n",
       "    </tr>\n",
       "  </tbody>\n",
       "</table>\n",
       "<p>5735 rows × 28 columns</p>\n",
       "</div>"
      ],
      "text/plain": [
       "       SEQN  ALQ101  ALQ110  ALQ130  SMQ020  RIAGENDR  RIDAGEYR  RIDRETH1  \\\n",
       "0     83732     1.0     NaN     1.0       1         1        62         3   \n",
       "1     83733     1.0     NaN     6.0       1         1        53         3   \n",
       "2     83734     1.0     NaN     NaN       1         1        78         3   \n",
       "3     83735     2.0     1.0     1.0       2         2        56         3   \n",
       "4     83736     2.0     1.0     1.0       2         2        42         4   \n",
       "...     ...     ...     ...     ...     ...       ...       ...       ...   \n",
       "5730  93695     2.0     2.0     NaN       1         2        76         3   \n",
       "5731  93696     2.0     2.0     NaN       2         1        26         3   \n",
       "5732  93697     1.0     NaN     1.0       1         2        80         3   \n",
       "5733  93700     NaN     NaN     NaN       1         1        35         3   \n",
       "5734  93702     1.0     NaN     2.0       2         2        24         3   \n",
       "\n",
       "      DMDCITZN  DMDEDUC2  ...  BPXSY2  BPXDI2  BMXWT  BMXHT  BMXBMI  BMXLEG  \\\n",
       "0          1.0       5.0  ...   124.0    64.0   94.8  184.5    27.8    43.3   \n",
       "1          2.0       3.0  ...   140.0    88.0   90.4  171.4    30.8    38.0   \n",
       "2          1.0       3.0  ...   132.0    44.0   83.4  170.1    28.8    35.6   \n",
       "3          1.0       5.0  ...   134.0    68.0  109.8  160.9    42.4    38.5   \n",
       "4          1.0       4.0  ...   114.0    54.0   55.2  164.9    20.3    37.4   \n",
       "...        ...       ...  ...     ...     ...    ...    ...     ...     ...   \n",
       "5730       1.0       3.0  ...   112.0    46.0   59.1  165.8    21.5    38.2   \n",
       "5731       1.0       5.0  ...   116.0    76.0  112.1  182.2    33.8    43.4   \n",
       "5732       1.0       4.0  ...   146.0    58.0   71.7  152.2    31.0    31.3   \n",
       "5733       2.0       1.0  ...   106.0    66.0   78.2  173.3    26.0    40.3   \n",
       "5734       1.0       5.0  ...   114.0    68.0   58.3  165.0    21.4    38.2   \n",
       "\n",
       "      BMXARML  BMXARMC  BMXWAIST  HIQ210  \n",
       "0        43.6     35.9     101.1     2.0  \n",
       "1        40.0     33.2     107.9     NaN  \n",
       "2        37.0     31.0     116.5     2.0  \n",
       "3        37.7     38.3     110.1     2.0  \n",
       "4        36.0     27.2      80.4     2.0  \n",
       "...       ...      ...       ...     ...  \n",
       "5730     37.0     29.5      95.0     2.0  \n",
       "5731     41.8     42.3     110.2     2.0  \n",
       "5732     37.5     28.8       NaN     2.0  \n",
       "5733     37.5     30.6      98.9     2.0  \n",
       "5734     33.5     26.2      72.5     2.0  \n",
       "\n",
       "[5735 rows x 28 columns]"
      ]
     },
     "execution_count": 7,
     "metadata": {},
     "output_type": "execute_result"
    }
   ],
   "source": [
    "da"
   ]
  },
  {
   "cell_type": "markdown",
   "id": "aad9be9a-f37f-4707-b4cf-c2997b4c4c4d",
   "metadata": {},
   "source": [
    "da will display all data in rows and cols"
   ]
  },
  {
   "cell_type": "code",
   "execution_count": 8,
   "id": "85c1f7c1-9e93-455b-99c6-74e645e6bb52",
   "metadata": {},
   "outputs": [
    {
     "data": {
      "text/html": [
       "<div>\n",
       "<style scoped>\n",
       "    .dataframe tbody tr th:only-of-type {\n",
       "        vertical-align: middle;\n",
       "    }\n",
       "\n",
       "    .dataframe tbody tr th {\n",
       "        vertical-align: top;\n",
       "    }\n",
       "\n",
       "    .dataframe thead th {\n",
       "        text-align: right;\n",
       "    }\n",
       "</style>\n",
       "<table border=\"1\" class=\"dataframe\">\n",
       "  <thead>\n",
       "    <tr style=\"text-align: right;\">\n",
       "      <th></th>\n",
       "      <th>SEQN</th>\n",
       "      <th>ALQ101</th>\n",
       "      <th>ALQ110</th>\n",
       "      <th>ALQ130</th>\n",
       "      <th>SMQ020</th>\n",
       "      <th>RIAGENDR</th>\n",
       "      <th>RIDAGEYR</th>\n",
       "      <th>RIDRETH1</th>\n",
       "      <th>DMDCITZN</th>\n",
       "      <th>DMDEDUC2</th>\n",
       "      <th>...</th>\n",
       "      <th>BPXSY2</th>\n",
       "      <th>BPXDI2</th>\n",
       "      <th>BMXWT</th>\n",
       "      <th>BMXHT</th>\n",
       "      <th>BMXBMI</th>\n",
       "      <th>BMXLEG</th>\n",
       "      <th>BMXARML</th>\n",
       "      <th>BMXARMC</th>\n",
       "      <th>BMXWAIST</th>\n",
       "      <th>HIQ210</th>\n",
       "    </tr>\n",
       "  </thead>\n",
       "  <tbody>\n",
       "    <tr>\n",
       "      <th>0</th>\n",
       "      <td>83732</td>\n",
       "      <td>1.0</td>\n",
       "      <td>NaN</td>\n",
       "      <td>1.0</td>\n",
       "      <td>1</td>\n",
       "      <td>1</td>\n",
       "      <td>62</td>\n",
       "      <td>3</td>\n",
       "      <td>1.0</td>\n",
       "      <td>5.0</td>\n",
       "      <td>...</td>\n",
       "      <td>124.0</td>\n",
       "      <td>64.0</td>\n",
       "      <td>94.8</td>\n",
       "      <td>184.5</td>\n",
       "      <td>27.8</td>\n",
       "      <td>43.3</td>\n",
       "      <td>43.6</td>\n",
       "      <td>35.9</td>\n",
       "      <td>101.1</td>\n",
       "      <td>2.0</td>\n",
       "    </tr>\n",
       "    <tr>\n",
       "      <th>1</th>\n",
       "      <td>83733</td>\n",
       "      <td>1.0</td>\n",
       "      <td>NaN</td>\n",
       "      <td>6.0</td>\n",
       "      <td>1</td>\n",
       "      <td>1</td>\n",
       "      <td>53</td>\n",
       "      <td>3</td>\n",
       "      <td>2.0</td>\n",
       "      <td>3.0</td>\n",
       "      <td>...</td>\n",
       "      <td>140.0</td>\n",
       "      <td>88.0</td>\n",
       "      <td>90.4</td>\n",
       "      <td>171.4</td>\n",
       "      <td>30.8</td>\n",
       "      <td>38.0</td>\n",
       "      <td>40.0</td>\n",
       "      <td>33.2</td>\n",
       "      <td>107.9</td>\n",
       "      <td>NaN</td>\n",
       "    </tr>\n",
       "    <tr>\n",
       "      <th>2</th>\n",
       "      <td>83734</td>\n",
       "      <td>1.0</td>\n",
       "      <td>NaN</td>\n",
       "      <td>NaN</td>\n",
       "      <td>1</td>\n",
       "      <td>1</td>\n",
       "      <td>78</td>\n",
       "      <td>3</td>\n",
       "      <td>1.0</td>\n",
       "      <td>3.0</td>\n",
       "      <td>...</td>\n",
       "      <td>132.0</td>\n",
       "      <td>44.0</td>\n",
       "      <td>83.4</td>\n",
       "      <td>170.1</td>\n",
       "      <td>28.8</td>\n",
       "      <td>35.6</td>\n",
       "      <td>37.0</td>\n",
       "      <td>31.0</td>\n",
       "      <td>116.5</td>\n",
       "      <td>2.0</td>\n",
       "    </tr>\n",
       "    <tr>\n",
       "      <th>3</th>\n",
       "      <td>83735</td>\n",
       "      <td>2.0</td>\n",
       "      <td>1.0</td>\n",
       "      <td>1.0</td>\n",
       "      <td>2</td>\n",
       "      <td>2</td>\n",
       "      <td>56</td>\n",
       "      <td>3</td>\n",
       "      <td>1.0</td>\n",
       "      <td>5.0</td>\n",
       "      <td>...</td>\n",
       "      <td>134.0</td>\n",
       "      <td>68.0</td>\n",
       "      <td>109.8</td>\n",
       "      <td>160.9</td>\n",
       "      <td>42.4</td>\n",
       "      <td>38.5</td>\n",
       "      <td>37.7</td>\n",
       "      <td>38.3</td>\n",
       "      <td>110.1</td>\n",
       "      <td>2.0</td>\n",
       "    </tr>\n",
       "    <tr>\n",
       "      <th>4</th>\n",
       "      <td>83736</td>\n",
       "      <td>2.0</td>\n",
       "      <td>1.0</td>\n",
       "      <td>1.0</td>\n",
       "      <td>2</td>\n",
       "      <td>2</td>\n",
       "      <td>42</td>\n",
       "      <td>4</td>\n",
       "      <td>1.0</td>\n",
       "      <td>4.0</td>\n",
       "      <td>...</td>\n",
       "      <td>114.0</td>\n",
       "      <td>54.0</td>\n",
       "      <td>55.2</td>\n",
       "      <td>164.9</td>\n",
       "      <td>20.3</td>\n",
       "      <td>37.4</td>\n",
       "      <td>36.0</td>\n",
       "      <td>27.2</td>\n",
       "      <td>80.4</td>\n",
       "      <td>2.0</td>\n",
       "    </tr>\n",
       "  </tbody>\n",
       "</table>\n",
       "<p>5 rows × 28 columns</p>\n",
       "</div>"
      ],
      "text/plain": [
       "    SEQN  ALQ101  ALQ110  ALQ130  SMQ020  RIAGENDR  RIDAGEYR  RIDRETH1  \\\n",
       "0  83732     1.0     NaN     1.0       1         1        62         3   \n",
       "1  83733     1.0     NaN     6.0       1         1        53         3   \n",
       "2  83734     1.0     NaN     NaN       1         1        78         3   \n",
       "3  83735     2.0     1.0     1.0       2         2        56         3   \n",
       "4  83736     2.0     1.0     1.0       2         2        42         4   \n",
       "\n",
       "   DMDCITZN  DMDEDUC2  ...  BPXSY2  BPXDI2  BMXWT  BMXHT  BMXBMI  BMXLEG  \\\n",
       "0       1.0       5.0  ...   124.0    64.0   94.8  184.5    27.8    43.3   \n",
       "1       2.0       3.0  ...   140.0    88.0   90.4  171.4    30.8    38.0   \n",
       "2       1.0       3.0  ...   132.0    44.0   83.4  170.1    28.8    35.6   \n",
       "3       1.0       5.0  ...   134.0    68.0  109.8  160.9    42.4    38.5   \n",
       "4       1.0       4.0  ...   114.0    54.0   55.2  164.9    20.3    37.4   \n",
       "\n",
       "   BMXARML  BMXARMC  BMXWAIST  HIQ210  \n",
       "0     43.6     35.9     101.1     2.0  \n",
       "1     40.0     33.2     107.9     NaN  \n",
       "2     37.0     31.0     116.5     2.0  \n",
       "3     37.7     38.3     110.1     2.0  \n",
       "4     36.0     27.2      80.4     2.0  \n",
       "\n",
       "[5 rows x 28 columns]"
      ]
     },
     "execution_count": 8,
     "metadata": {},
     "output_type": "execute_result"
    }
   ],
   "source": [
    "da.head()"
   ]
  },
  {
   "cell_type": "markdown",
   "id": "ea5daeb5-bf3a-41f6-9bd8-61e99aa5edd2",
   "metadata": {},
   "source": [
    "head function shows first some rows like 5 rows "
   ]
  },
  {
   "cell_type": "code",
   "execution_count": 9,
   "id": "5f1f6ccb-0270-43b8-9391-8a9941eae500",
   "metadata": {},
   "outputs": [
    {
     "data": {
      "text/plain": [
       "(5735, 28)"
      ]
     },
     "execution_count": 9,
     "metadata": {},
     "output_type": "execute_result"
    }
   ],
   "source": [
    "da.shape"
   ]
  },
  {
   "cell_type": "raw",
   "id": "d99a20aa-09da-4372-9141-0538baf62ccb",
   "metadata": {},
   "source": [
    "shape is a fuction which return no.rows and cols"
   ]
  },
  {
   "cell_type": "code",
   "execution_count": 10,
   "id": "46d91b56-7a59-4073-8f81-d79204de475d",
   "metadata": {},
   "outputs": [
    {
     "data": {
      "text/plain": [
       "0        94.8\n",
       "1        90.4\n",
       "2        83.4\n",
       "3       109.8\n",
       "4        55.2\n",
       "        ...  \n",
       "5730     59.1\n",
       "5731    112.1\n",
       "5732     71.7\n",
       "5733     78.2\n",
       "5734     58.3\n",
       "Name: BMXWT, Length: 5735, dtype: float64"
      ]
     },
     "execution_count": 10,
     "metadata": {},
     "output_type": "execute_result"
    }
   ],
   "source": [
    "da['BMXWT']"
   ]
  },
  {
   "cell_type": "markdown",
   "id": "cb2f251b-ac0e-4025-8264-36f1c8db9f86",
   "metadata": {},
   "source": [
    "# Data Visualization"
   ]
  },
  {
   "cell_type": "code",
   "execution_count": 11,
   "id": "ed5ab699-b941-43de-bc56-730968bc907e",
   "metadata": {},
   "outputs": [],
   "source": [
    "y=[6,7,3,4,5]"
   ]
  },
  {
   "cell_type": "code",
   "execution_count": 12,
   "id": "da176151-37d6-4ba5-b32f-bd60a2a2ddfc",
   "metadata": {},
   "outputs": [
    {
     "name": "stdout",
     "output_type": "stream",
     "text": [
      "Requirement already satisfied: matplotlib in c:\\users\\rizzwann\\anaconda3\\envs\\practicestats\\lib\\site-packages (3.5.2)\n",
      "Requirement already satisfied: packaging>=20.0 in c:\\users\\rizzwann\\anaconda3\\envs\\practicestats\\lib\\site-packages (from matplotlib) (21.3)\n",
      "Requirement already satisfied: fonttools>=4.22.0 in c:\\users\\rizzwann\\anaconda3\\envs\\practicestats\\lib\\site-packages (from matplotlib) (4.34.4)\n",
      "Requirement already satisfied: numpy>=1.17 in c:\\users\\rizzwann\\anaconda3\\envs\\practicestats\\lib\\site-packages (from matplotlib) (1.23.1)\n",
      "Requirement already satisfied: python-dateutil>=2.7 in c:\\users\\rizzwann\\anaconda3\\envs\\practicestats\\lib\\site-packages (from matplotlib) (2.8.2)\n",
      "Requirement already satisfied: pillow>=6.2.0 in c:\\users\\rizzwann\\anaconda3\\envs\\practicestats\\lib\\site-packages (from matplotlib) (9.2.0)\n",
      "Requirement already satisfied: pyparsing>=2.2.1 in c:\\users\\rizzwann\\anaconda3\\envs\\practicestats\\lib\\site-packages (from matplotlib) (3.0.9)\n",
      "Requirement already satisfied: cycler>=0.10 in c:\\users\\rizzwann\\anaconda3\\envs\\practicestats\\lib\\site-packages (from matplotlib) (0.11.0)\n",
      "Requirement already satisfied: kiwisolver>=1.0.1 in c:\\users\\rizzwann\\anaconda3\\envs\\practicestats\\lib\\site-packages (from matplotlib) (1.4.4)\n"
     ]
    },
    {
     "name": "stderr",
     "output_type": "stream",
     "text": [
      "WARNING: Ignoring invalid distribution -ables (c:\\users\\rizzwann\\anaconda3\\envs\\practicestats\\lib\\site-packages)\n",
      "WARNING: Ignoring invalid distribution -ables (c:\\users\\rizzwann\\anaconda3\\envs\\practicestats\\lib\\site-packages)\n",
      "ERROR: Could not install packages due to an OSError: [Errno 2] No such file or directory: 'c:\\\\users\\\\rizzwann\\\\anaconda3\\\\envs\\\\practicestats\\\\lib\\\\site-packages\\\\numpy-1.23.1.dist-info\\\\METADATA'\n",
      "\n",
      "WARNING: Ignoring invalid distribution -ables (c:\\users\\rizzwann\\anaconda3\\envs\\practicestats\\lib\\site-packages)\n",
      "WARNING: Ignoring invalid distribution -ables (c:\\users\\rizzwann\\anaconda3\\envs\\practicestats\\lib\\site-packages)\n",
      "WARNING: Ignoring invalid distribution -ables (c:\\users\\rizzwann\\anaconda3\\envs\\practicestats\\lib\\site-packages)\n"
     ]
    }
   ],
   "source": [
    "!pip install matplotlib"
   ]
  },
  {
   "cell_type": "code",
   "execution_count": 13,
   "id": "3a6cf985-bf5a-49cf-b10c-337738418a36",
   "metadata": {},
   "outputs": [],
   "source": [
    "import matplotlib #it is used for plot graph\n",
    "import matplotlib.pyplot as plt #its a function which is used to ploting\n",
    "%matplotlib inline \n",
    "#show graph in this open panel "
   ]
  },
  {
   "cell_type": "code",
   "execution_count": 14,
   "id": "63aa8749-ef00-4757-a927-f30ed599e35d",
   "metadata": {},
   "outputs": [
    {
     "data": {
      "text/plain": [
       "<function matplotlib.pyplot.show(close=None, block=None)>"
      ]
     },
     "execution_count": 14,
     "metadata": {},
     "output_type": "execute_result"
    },
    {
     "data": {
      "image/png": "[encoded data removed]",
      "text/plain": [
       "<Figure size 432x288 with 1 Axes>"
      ]
     },
     "metadata": {
      "needs_background": "light"
     },
     "output_type": "display_data"
    }
   ],
   "source": [
    "plt.plot(y)\n",
    "plt.show"
   ]
  },
  {
   "cell_type": "code",
   "execution_count": 15,
   "id": "44b05a82-e9a8-47e5-90e0-5eb9ecd952be",
   "metadata": {},
   "outputs": [
    {
     "data": {
      "image/png": "[encoded data removed]",
      "text/plain": [
       "<Figure size 720x360 with 1 Axes>"
      ]
     },
     "metadata": {
      "needs_background": "light"
     },
     "output_type": "display_data"
    }
   ],
   "source": [
    "#creat a figure\n",
    "plt.figure(figsize=(10,5))\n",
    "#add a line \n",
    "plt.plot(y)\n",
    "#add details at figure/ graph\n",
    "plt.title(\"title of first example\")\n",
    "plt.xlabel(\"x label\")\n",
    "plt.ylabel(\"y label\")\n",
    "plt.grid()\n",
    "#show grid in the graph\n",
    "plt.show()"
   ]
  },
  {
   "cell_type": "code",
   "execution_count": 16,
   "id": "500d42ad-11cb-409a-a54c-a0f71c9db551",
   "metadata": {},
   "outputs": [
    {
     "data": {
      "text/plain": [
       "5735"
      ]
     },
     "execution_count": 16,
     "metadata": {},
     "output_type": "execute_result"
    }
   ],
   "source": [
    "da['BMXWT'].size  # total rows "
   ]
  },
  {
   "cell_type": "code",
   "execution_count": 17,
   "id": "33ed617a-fde6-4bb0-a7d0-fc99f47b7a14",
   "metadata": {},
   "outputs": [
    {
     "data": {
      "image/png": "[encoded data removed]",
      "text/plain": [
       "<Figure size 1440x360 with 1 Axes>"
      ]
     },
     "metadata": {
      "needs_background": "light"
     },
     "output_type": "display_data"
    }
   ],
   "source": [
    "#cerate a figure of lenghth and width\n",
    "plt.figure(figsize=(20,5))\n",
    "# define x and y axis \n",
    "x=range(da['BMXWT'].size)\n",
    "y=da['BMXWT']\n",
    "# pass the plot library\n",
    "plt.scatter(x,y,marker='x',s=0.9)\n",
    "\n",
    "#add details for betr visualization\n",
    "plt.title(\"Wieghts of Individuals\")\n",
    "plt.xlabel(\"ID of Individuals\")\n",
    "plt.ylabel(\"Weight in (KG)\")\n",
    "# show table \n",
    "plt.show()"
   ]
  },
  {
   "cell_type": "markdown",
   "id": "96a3210b-f168-45c2-b926-aaee8dc1cb6c",
   "metadata": {},
   "source": [
    "**scatter is a graph in which there is no line only show the points of x and y corespondense**"
   ]
  },
  {
   "cell_type": "code",
   "execution_count": null,
   "id": "b8d2767d-60a8-4741-8878-3b8b1b96fc26",
   "metadata": {},
   "outputs": [],
   "source": [
    "#find mean of the data without pandas\n",
    "sum(y)/len(y)"
   ]
  },
  {
   "cell_type": "code",
   "execution_count": null,
   "id": "47790a99-e98f-48da-accb-2c75bdbada5f",
   "metadata": {},
   "outputs": [],
   "source": [
    "#so remove the nan from data nan(not a number)\n",
    "y=y.dropna()"
   ]
  },
  {
   "cell_type": "code",
   "execution_count": null,
   "id": "0e3601d5-4620-49fd-bf81-ca34e9df04f4",
   "metadata": {},
   "outputs": [],
   "source": [
    "sum(y)"
   ]
  },
  {
   "cell_type": "code",
   "execution_count": null,
   "id": "3dbaaaf9-1546-48d2-a1c7-44b3a9b33073",
   "metadata": {},
   "outputs": [],
   "source": [
    "avg=sum(y)/len(y)"
   ]
  },
  {
   "cell_type": "code",
   "execution_count": null,
   "id": "1b18904c-4786-422f-b18f-d94e6e132970",
   "metadata": {},
   "outputs": [],
   "source": [
    "avg"
   ]
  },
  {
   "cell_type": "markdown",
   "id": "5d586d7b-0887-440e-84c0-e78f812f0f01",
   "metadata": {
    "tags": []
   },
   "source": [
    "# One Hot Vector Encoding"
   ]
  },
  {
   "cell_type": "code",
   "execution_count": null,
   "id": "2b61cf57-4879-4d71-bb8b-3a7297c9fd6f",
   "metadata": {},
   "outputs": [],
   "source": [
    "da.columns"
   ]
  },
  {
   "cell_type": "code",
   "execution_count": null,
   "id": "e7a39098-8f85-4071-9dab-d590561bd765",
   "metadata": {},
   "outputs": [],
   "source": [
    "da['BMXWT'].mean()# weight mean"
   ]
  },
  {
   "cell_type": "code",
   "execution_count": null,
   "id": "c5ca7d62-2ea1-430f-9bb1-7cda66250fdd",
   "metadata": {},
   "outputs": [],
   "source": [
    "da['DMDEDUC2'] # education Categorical order/level of education"
   ]
  },
  {
   "cell_type": "code",
   "execution_count": null,
   "id": "26c4ecae-1e40-4008-bbec-31b730e6f613",
   "metadata": {},
   "outputs": [],
   "source": [
    "gender=da['RIAGENDR']\n",
    "gender"
   ]
  },
  {
   "cell_type": "code",
   "execution_count": null,
   "id": "58d1aa3c-8b98-477d-9616-568fde1f68cb",
   "metadata": {},
   "outputs": [],
   "source": [
    "gender.unique()"
   ]
  },
  {
   "cell_type": "code",
   "execution_count": null,
   "id": "243d7ffe-7100-4648-800f-3ce9a07555a6",
   "metadata": {},
   "outputs": [],
   "source": [
    "animals=['bird','cat','dog','cat','bird','bird']\n",
    "# make a dictionery of animals by name categorical\n",
    "dictionery={'categorical':animals}\n",
    "#make a dataframe of dictionery using pandas object pd\n",
    "df=pd.DataFrame(dictionery) \n"
   ]
  },
  {
   "cell_type": "code",
   "execution_count": null,
   "id": "ee5ccce8-a4d8-4c6f-bd2d-936d51885811",
   "metadata": {},
   "outputs": [],
   "source": [
    "df"
   ]
  },
  {
   "cell_type": "code",
   "execution_count": null,
   "id": "b953fe0c-fcb9-4952-b22b-88cd84b175bf",
   "metadata": {},
   "outputs": [],
   "source": [
    "df['categorical']"
   ]
  },
  {
   "cell_type": "code",
   "execution_count": null,
   "id": "bcbae741-8939-4d74-80b9-fee4bb774007",
   "metadata": {},
   "outputs": [],
   "source": [
    "#make dummies (dummies is used to create columns correspoding to unique values )\n",
    "dfDummies= pd.get_dummies(df['categorical'],prefix='category')\n"
   ]
  },
  {
   "cell_type": "code",
   "execution_count": null,
   "id": "e605f7b5-fe13-4d2c-9e22-deb791f5352f",
   "metadata": {},
   "outputs": [],
   "source": [
    "dfDummies"
   ]
  },
  {
   "cell_type": "code",
   "execution_count": null,
   "id": "857ed661-9d13-42b7-98d8-332b113b7d50",
   "metadata": {},
   "outputs": [],
   "source": [
    "dfDummies.values"
   ]
  },
  {
   "cell_type": "markdown",
   "id": "816a2488-300f-4b1f-82e9-26d6ed8e9f09",
   "metadata": {},
   "source": [
    "# Studying Discrete Values"
   ]
  },
  {
   "cell_type": "code",
   "execution_count": 18,
   "id": "af4e556b-d81a-4812-86ff-0f7509f765c2",
   "metadata": {},
   "outputs": [
    {
     "ename": "NameError",
     "evalue": "name 'gender' is not defined",
     "output_type": "error",
     "traceback": [
      "\u001b[1;31m---------------------------------------------------------------------------\u001b[0m",
      "\u001b[1;31mNameError\u001b[0m                                 Traceback (most recent call last)",
      "Input \u001b[1;32mIn [18]\u001b[0m, in \u001b[0;36m<cell line: 1>\u001b[1;34m()\u001b[0m\n\u001b[1;32m----> 1\u001b[0m \u001b[43mgender\u001b[49m\u001b[38;5;241m.\u001b[39mvalue_counts()\n",
      "\u001b[1;31mNameError\u001b[0m: name 'gender' is not defined"
     ]
    }
   ],
   "source": [
    "gender.value_counts()"
   ]
  },
  {
   "cell_type": "code",
   "execution_count": null,
   "id": "b6f8490d-e75a-45b6-b37c-be3f2c697214",
   "metadata": {},
   "outputs": [],
   "source": [
    "gender.value_counts().plot(kind='bar')\n",
    "plt.show()"
   ]
  },
  {
   "cell_type": "code",
   "execution_count": null,
   "id": "6d513c54-da28-4715-aa59-2577b5ce1bff",
   "metadata": {},
   "outputs": [],
   "source": [
    "gender.value_counts().plot(kind='bar')\n",
    "plt.xticks([0,1],['Male','Female'])\n",
    "plt.xlabel(\"Gender\")\n",
    "plt.ylabel(\"Frequency\")\n",
    "plt.show()"
   ]
  },
  {
   "cell_type": "markdown",
   "id": "aaf1b2fd-0b2f-436e-8e91-adcf182026b6",
   "metadata": {},
   "source": [
    "# Most Common Value (mod)"
   ]
  },
  {
   "cell_type": "code",
   "execution_count": null,
   "id": "f0a69437-aaa3-4a85-a872-2518e9741aaf",
   "metadata": {},
   "outputs": [],
   "source": [
    "import numpy as np"
   ]
  },
  {
   "cell_type": "code",
   "execution_count": null,
   "id": "805df447-9556-4367-93b8-83bb6227d3ac",
   "metadata": {},
   "outputs": [],
   "source": [
    "sizes=np.array([22,23,29,32,39,42,42,42,42,42,43,44,45,46,51,51,55,55,75,58,78,83,97,97])"
   ]
  },
  {
   "cell_type": "code",
   "execution_count": null,
   "id": "88b9a086-2cc5-4fcd-84f3-cbc2e0b4e165",
   "metadata": {},
   "outputs": [],
   "source": [
    "sizes.mean()"
   ]
  },
  {
   "cell_type": "code",
   "execution_count": null,
   "id": "55a2981f-f0d5-4110-b147-f88d37d9b1ce",
   "metadata": {},
   "outputs": [],
   "source": [
    "from collections import Counter\n",
    "cnt=Counter()\n",
    "\n",
    "for size in sizes:\n",
    "    cnt[size]+=1\n",
    "\n",
    "cnt.most_common()    "
   ]
  },
  {
   "cell_type": "code",
   "execution_count": null,
   "id": "60c9e6d3-e542-4837-8697-90a8f5a69e46",
   "metadata": {},
   "outputs": [],
   "source": [
    "# here we have to execute loop so we need a libtrary\n",
    "!pip install scipy \n",
    "# scientific computation library"
   ]
  },
  {
   "cell_type": "code",
   "execution_count": null,
   "id": "cee3bbf8-8f69-485b-8cba-eab4d601933c",
   "metadata": {},
   "outputs": [],
   "source": [
    "from scipy import stats\n",
    "stats.mode(sizes)"
   ]
  },
  {
   "cell_type": "code",
   "execution_count": null,
   "id": "a6684b18-71af-4a24-bdce-e8c40e2a7b50",
   "metadata": {},
   "outputs": [],
   "source": [
    "gender.mode()"
   ]
  },
  {
   "cell_type": "markdown",
   "id": "7188b6ff-01be-4069-aad7-25e4db71b27b",
   "metadata": {},
   "source": [
    "# More than one Classes"
   ]
  },
  {
   "cell_type": "code",
   "execution_count": 19,
   "id": "74aac912-f058-4bad-bd21-02e48049e7d6",
   "metadata": {},
   "outputs": [
    {
     "data": {
      "text/plain": [
       "0       2.0\n",
       "1       NaN\n",
       "2       2.0\n",
       "3       2.0\n",
       "4       2.0\n",
       "       ... \n",
       "5730    2.0\n",
       "5731    2.0\n",
       "5732    2.0\n",
       "5733    2.0\n",
       "5734    2.0\n",
       "Name: HIQ210, Length: 5735, dtype: float64"
      ]
     },
     "execution_count": 19,
     "metadata": {},
     "output_type": "execute_result"
    }
   ],
   "source": [
    "da['HIQ210']"
   ]
  },
  {
   "cell_type": "code",
   "execution_count": 20,
   "id": "ed4cd4e1-8389-48f7-be97-1671e445ec53",
   "metadata": {},
   "outputs": [
    {
     "data": {
      "text/plain": [
       "array([ 2., nan,  1.,  9.])"
      ]
     },
     "execution_count": 20,
     "metadata": {},
     "output_type": "execute_result"
    }
   ],
   "source": [
    "da[\"HIQ210\"].unique()\n"
   ]
  },
  {
   "cell_type": "code",
   "execution_count": 21,
   "id": "a4f4a136-b344-4799-937b-ef3e6113ad84",
   "metadata": {},
   "outputs": [
    {
     "data": {
      "text/plain": [
       "<function matplotlib.pyplot.show(close=None, block=None)>"
      ]
     },
     "execution_count": 21,
     "metadata": {},
     "output_type": "execute_result"
    },
    {
     "data": {
      "image/png": "[encoded data removed]",
      "text/plain": [
       "<Figure size 432x288 with 1 Axes>"
      ]
     },
     "metadata": {
      "needs_background": "light"
     },
     "output_type": "display_data"
    }
   ],
   "source": [
    "da[\"HIQ210\"].value_counts().plot(kind='bar')\n",
    "plt.show"
   ]
  },
  {
   "cell_type": "code",
   "execution_count": 22,
   "id": "c12a9096-83bb-44d7-a7f7-2e7fa76868d9",
   "metadata": {},
   "outputs": [
    {
     "data": {
      "text/plain": [
       "<function matplotlib.pyplot.show(close=None, block=None)>"
      ]
     },
     "execution_count": 22,
     "metadata": {},
     "output_type": "execute_result"
    },
    {
     "data": {
      "image/png": "[encoded data removed]",
      "text/plain": [
       "<Figure size 432x288 with 1 Axes>"
      ]
     },
     "metadata": {},
     "output_type": "display_data"
    }
   ],
   "source": [
    "da[\"HIQ210\"].value_counts().plot(kind='pie')\n",
    "plt.show #highly not recommended"
   ]
  },
  {
   "cell_type": "markdown",
   "id": "d75d8cde-5eb1-4485-b922-8d4acebccd35",
   "metadata": {},
   "source": [
    "# Stydying Real Number"
   ]
  },
  {
   "cell_type": "code",
   "execution_count": null,
   "id": "c78d41fd-f243-48fd-8187-2a83328f8b72",
   "metadata": {},
   "outputs": [],
   "source": [
    "da.columns"
   ]
  },
  {
   "cell_type": "code",
   "execution_count": 24,
   "id": "3f5100be-4419-44d6-8733-8f36defebc8f",
   "metadata": {},
   "outputs": [],
   "source": [
    "wt=da[ 'BMXWT']"
   ]
  },
  {
   "cell_type": "code",
   "execution_count": 25,
   "id": "aba3e9c9-3eef-49f3-8f34-df6acde487d2",
   "metadata": {},
   "outputs": [
    {
     "data": {
      "image/png": "[encoded data removed]",
      "text/plain": [
       "<Figure size 432x288 with 1 Axes>"
      ]
     },
     "metadata": {
      "needs_background": "light"
     },
     "output_type": "display_data"
    }
   ],
   "source": [
    "wt.value_counts().plot(kind='bar')\n",
    "plt.show()\n",
    "#bar not recommended bar chat"
   ]
  },
  {
   "cell_type": "code",
   "execution_count": 26,
   "id": "e94a5d37-c180-495f-a74a-8cdd04e79ef2",
   "metadata": {},
   "outputs": [
    {
     "data": {
      "image/png": "[encoded data removed]",
      "text/plain": [
       "<Figure size 432x288 with 1 Axes>"
      ]
     },
     "metadata": {
      "needs_background": "light"
     },
     "output_type": "display_data"
    }
   ],
   "source": [
    "wt.hist(bins=10)\n",
    "plt.show()\n",
    "#its done using pandas \n",
    "# when n o beans increase information also increase but for certain points"
   ]
  },
  {
   "cell_type": "code",
   "execution_count": 27,
   "id": "979621d9-b038-49f5-984b-631cf199db4d",
   "metadata": {},
   "outputs": [
    {
     "data": {
      "image/png": "[encoded data removed]",
      "text/plain": [
       "<Figure size 432x288 with 1 Axes>"
      ]
     },
     "metadata": {
      "needs_background": "light"
     },
     "output_type": "display_data"
    }
   ],
   "source": [
    "#now make histo-gram using matplotlib\n",
    "plt.hist(wt,bins=20)\n",
    "plt.ylabel(\"Frequency\")\n",
    "plt.xlabel('Weights')\n",
    "plt.title(\"Histogram of Weights\")\n",
    "\n",
    "plt.show()"
   ]
  },
  {
   "cell_type": "code",
   "execution_count": null,
   "id": "f6c98940-dbe7-4c75-9922-418e53917e9d",
   "metadata": {},
   "outputs": [],
   "source": [
    "!pip install seaborn"
   ]
  },
  {
   "cell_type": "code",
   "execution_count": 28,
   "id": "4d174ad7-d198-446f-9fdb-c34f4b0a304d",
   "metadata": {},
   "outputs": [],
   "source": [
    "import seaborn as sns\n",
    "sns.set(color_codes=True)\n",
    "\n",
    "sns.set_style('white')"
   ]
  },
  {
   "cell_type": "markdown",
   "id": "cf6e29cf-8345-4bf3-8411-5497b6e93723",
   "metadata": {},
   "source": [
    "**for more colors Expmles see**\n",
    "https://seaborn.pydata.org/examples/index.html\n"
   ]
  },
  {
   "cell_type": "code",
   "execution_count": 29,
   "id": "083dca51-fedc-4067-bc57-628b4bf123ad",
   "metadata": {},
   "outputs": [
    {
     "data": {
      "image/png": "[encoded data removed]",
      "text/plain": [
       "<Figure size 360x360 with 1 Axes>"
      ]
     },
     "metadata": {},
     "output_type": "display_data"
    }
   ],
   "source": [
    "sns.displot(wt,bins=20)\n",
    "plt.ylabel(\"Frequency\")\n",
    "plt.xlabel('Weights')\n",
    "plt.title(\"Histogram of Weights\")\n",
    "sns.despine(offset=5,trim=True)# move x axis away\n",
    "plt.show()\n"
   ]
  },
  {
   "cell_type": "markdown",
   "id": "4a73789f-d062-4a40-93a5-66d50f44d5f3",
   "metadata": {},
   "source": [
    "# Studying Central Tendency\n",
    "**Where most data falls**"
   ]
  },
  {
   "cell_type": "code",
   "execution_count": 30,
   "id": "d27583da-fbc9-4b96-85f7-249ffbf8721f",
   "metadata": {},
   "outputs": [
    {
     "ename": "NameError",
     "evalue": "name 'x_c' is not defined",
     "output_type": "error",
     "traceback": [
      "\u001b[1;31m---------------------------------------------------------------------------\u001b[0m",
      "\u001b[1;31mNameError\u001b[0m                                 Traceback (most recent call last)",
      "Input \u001b[1;32mIn [30]\u001b[0m, in \u001b[0;36m<cell line: 18>\u001b[1;34m()\u001b[0m\n\u001b[0;32m     16\u001b[0m x0_y75,x6000_y75\u001b[38;5;241m=\u001b[39m\u001b[38;5;28mzip\u001b[39m(l1,l2)\n\u001b[0;32m     17\u001b[0m \u001b[38;5;66;03m#join them\u001b[39;00m\n\u001b[1;32m---> 18\u001b[0m plt\u001b[38;5;241m.\u001b[39mplot(\u001b[43mx_c\u001b[49m,y_c, color\u001b[38;5;241m=\u001b[39m\u001b[38;5;124m'\u001b[39m\u001b[38;5;124mred\u001b[39m\u001b[38;5;124m'\u001b[39m, linewidth\u001b[38;5;241m=\u001b[39m\u001b[38;5;241m0.75\u001b[39m)\n\u001b[0;32m     19\u001b[0m \u001b[38;5;66;03m#plot them\u001b[39;00m\n\u001b[0;32m     21\u001b[0m plt\u001b[38;5;241m.\u001b[39mshow()\n",
      "\u001b[1;31mNameError\u001b[0m: name 'x_c' is not defined"
     ]
    },
    {
     "data": {
      "image/png": "[encoded data removed]",
      "text/plain": [
       "<Figure size 1440x360 with 1 Axes>"
      ]
     },
     "metadata": {},
     "output_type": "display_data"
    }
   ],
   "source": [
    "plt.figure(figsize=(20,5))\n",
    "\n",
    "x =range(wt.size)\n",
    "y=wt\n",
    "\n",
    "plt.scatter(x,y,marker='x',s=0.5)\n",
    "plt.title(\"Wieghts Of Individulas\")\n",
    "plt.xlabel('ID of Indiv.')\n",
    "plt.ylabel('Weights in KG')\n",
    "\n",
    "# plot the estimate avg line which we are asuming\n",
    "l1=(0,75)\n",
    "#first point\n",
    "l2=(6000,75)\n",
    "#2nd point\n",
    "x0_y75,x6000_y75=zip(l1,l2)\n",
    "#join them\n",
    "plt.plot(x_c,y_c, color='red', linewidth=0.75)\n",
    "#plot them\n",
    "\n",
    "plt.show()"
   ]
  },
  {
   "cell_type": "code",
   "execution_count": null,
   "id": "d1c40658-3ff3-4ec0-b942-e5c7bf33c18c",
   "metadata": {},
   "outputs": [],
   "source": [
    "m=wt.mean()"
   ]
  },
  {
   "cell_type": "code",
   "execution_count": 31,
   "id": "5be1aeb7-03ce-4126-a2de-6ec7a51784ac",
   "metadata": {},
   "outputs": [
    {
     "ename": "NameError",
     "evalue": "name 'x_c' is not defined",
     "output_type": "error",
     "traceback": [
      "\u001b[1;31m---------------------------------------------------------------------------\u001b[0m",
      "\u001b[1;31mNameError\u001b[0m                                 Traceback (most recent call last)",
      "Input \u001b[1;32mIn [31]\u001b[0m, in \u001b[0;36m<cell line: 18>\u001b[1;34m()\u001b[0m\n\u001b[0;32m     16\u001b[0m x0_y75,x6000_y75\u001b[38;5;241m=\u001b[39m\u001b[38;5;28mzip\u001b[39m(l1,l2)\n\u001b[0;32m     17\u001b[0m \u001b[38;5;66;03m#join them\u001b[39;00m\n\u001b[1;32m---> 18\u001b[0m plt\u001b[38;5;241m.\u001b[39mplot(\u001b[43mx_c\u001b[49m,y_c, color\u001b[38;5;241m=\u001b[39m\u001b[38;5;124m'\u001b[39m\u001b[38;5;124mred\u001b[39m\u001b[38;5;124m'\u001b[39m, linewidth\u001b[38;5;241m=\u001b[39m\u001b[38;5;241m0.75\u001b[39m)\n\u001b[0;32m     19\u001b[0m \u001b[38;5;66;03m#plot them\u001b[39;00m\n\u001b[0;32m     20\u001b[0m \u001b[38;5;66;03m# plot the estimate actual avg line\u001b[39;00m\n\u001b[0;32m     21\u001b[0m l1\u001b[38;5;241m=\u001b[39m(\u001b[38;5;241m0\u001b[39m,m)\n",
      "\u001b[1;31mNameError\u001b[0m: name 'x_c' is not defined"
     ]
    },
    {
     "data": {
      "image/png": "[encoded data removed]",
      "text/plain": [
       "<Figure size 1440x360 with 1 Axes>"
      ]
     },
     "metadata": {},
     "output_type": "display_data"
    }
   ],
   "source": [
    " plt.figure(figsize=(20,5))\n",
    "\n",
    "x =range(wt.size)\n",
    "y=wt\n",
    "\n",
    "plt.scatter(x,y,marker='x',s=0.5)\n",
    "plt.title(\"Wieghts Of Individulas\")\n",
    "plt.xlabel('ID of Indiv.')\n",
    "plt.ylabel('Weights in KG')\n",
    "\n",
    "# plot the estimate avg line which we are asuming\n",
    "l1=(0,75)\n",
    "#first point\n",
    "l2=(6000,75)\n",
    "#2nd point\n",
    "x0_y75,x6000_y75=zip(l1,l2)\n",
    "#join them\n",
    "plt.plot(x_c,y_c, color='red', linewidth=0.75)\n",
    "#plot them\n",
    "# plot the estimate actual avg line\n",
    "l1=(0,m)\n",
    "#first point\n",
    "l2=(6000,m)\n",
    "#2nd point\n",
    "x0_ym,x6000_ym=zip(l1,l2)\n",
    "#join them\n",
    "plt.plot(x0_ym,x6000_ym, color='green', linewidth=2)\n",
    "#plot them\n",
    "plt.show()"
   ]
  },
  {
   "cell_type": "markdown",
   "id": "e84d191d-b1ed-49eb-b541-46f4ed04a24b",
   "metadata": {},
   "source": [
    "**so here we can see we assuming value and mean has huge diff\n",
    "so mean is not applicable at all data**\n",
    "now we will use Median values which can handle outliers but mean can't medians are robust(unceen/ outliers cant effect) to outliers"
   ]
  },
  {
   "cell_type": "markdown",
   "id": "3d0fb274-da8e-44e3-8180-e903a2509c42",
   "metadata": {},
   "source": [
    "# Visualizing weights Data"
   ]
  },
  {
   "cell_type": "code",
   "execution_count": 32,
   "id": "e504bf8b-0696-4ff1-aa49-5e9b9128e965",
   "metadata": {},
   "outputs": [
    {
     "data": {
      "text/plain": [
       "198.9"
      ]
     },
     "execution_count": 32,
     "metadata": {},
     "output_type": "execute_result"
    }
   ],
   "source": [
    "wt.max()"
   ]
  },
  {
   "cell_type": "code",
   "execution_count": 33,
   "id": "7855c31d-5b73-4ae3-a1f7-23409c3fe9b5",
   "metadata": {},
   "outputs": [
    {
     "data": {
      "text/plain": [
       "32.4"
      ]
     },
     "execution_count": 33,
     "metadata": {},
     "output_type": "execute_result"
    }
   ],
   "source": [
    "wt.min()"
   ]
  },
  {
   "cell_type": "code",
   "execution_count": 34,
   "id": "4847b1c4-44fb-48e9-bc26-4af3b6164aa4",
   "metadata": {},
   "outputs": [],
   "source": [
    "md=wt.median()"
   ]
  },
  {
   "cell_type": "code",
   "execution_count": 35,
   "id": "6927a85c-6748-41dc-bc78-2b4c7b6c7ee4",
   "metadata": {},
   "outputs": [
    {
     "ename": "NameError",
     "evalue": "name 'x_c' is not defined",
     "output_type": "error",
     "traceback": [
      "\u001b[1;31m---------------------------------------------------------------------------\u001b[0m",
      "\u001b[1;31mNameError\u001b[0m                                 Traceback (most recent call last)",
      "Input \u001b[1;32mIn [35]\u001b[0m, in \u001b[0;36m<cell line: 18>\u001b[1;34m()\u001b[0m\n\u001b[0;32m     16\u001b[0m x0_y75,x6000_y75\u001b[38;5;241m=\u001b[39m\u001b[38;5;28mzip\u001b[39m(l1,l2)\n\u001b[0;32m     17\u001b[0m \u001b[38;5;66;03m#join them\u001b[39;00m\n\u001b[1;32m---> 18\u001b[0m plt\u001b[38;5;241m.\u001b[39mplot(\u001b[43mx_c\u001b[49m,y_c, color\u001b[38;5;241m=\u001b[39m\u001b[38;5;124m'\u001b[39m\u001b[38;5;124mred\u001b[39m\u001b[38;5;124m'\u001b[39m, linewidth\u001b[38;5;241m=\u001b[39m\u001b[38;5;241m0.75\u001b[39m, label\u001b[38;5;241m=\u001b[39m\u001b[38;5;124m\"\u001b[39m\u001b[38;5;124mAssumed Value\u001b[39m\u001b[38;5;124m\"\u001b[39m)\n\u001b[0;32m     19\u001b[0m \u001b[38;5;66;03m#plot them\u001b[39;00m\n\u001b[0;32m     20\u001b[0m \u001b[38;5;66;03m# plot the estimate actual avg line\u001b[39;00m\n\u001b[0;32m     21\u001b[0m l1\u001b[38;5;241m=\u001b[39m(\u001b[38;5;241m0\u001b[39m,m)\n",
      "\u001b[1;31mNameError\u001b[0m: name 'x_c' is not defined"
     ]
    },
    {
     "data": {
      "image/png": "[encoded data removed]",
      "text/plain": [
       "<Figure size 1440x360 with 1 Axes>"
      ]
     },
     "metadata": {},
     "output_type": "display_data"
    }
   ],
   "source": [
    " plt.figure(figsize=(20,5))\n",
    "\n",
    "x =range(wt.size)\n",
    "y=wt\n",
    "\n",
    "plt.scatter(x,y,marker='x',s=0.5)\n",
    "plt.title(\"Wieghts Of Individulas\")\n",
    "plt.xlabel('ID of Indiv.')\n",
    "plt.ylabel('Weights in KG')\n",
    "\n",
    "# plot the estimate avg line which we are asuming\n",
    "l1=(0,75)\n",
    "#first point\n",
    "l2=(6000,75)\n",
    "#2nd point\n",
    "x0_y75,x6000_y75=zip(l1,l2)\n",
    "#join them\n",
    "plt.plot(x_c,y_c, color='red', linewidth=0.75, label=\"Assumed Value\")\n",
    "#plot them\n",
    "# plot the estimate actual avg line\n",
    "l1=(0,m)\n",
    "#first point\n",
    "l2=(6000,m)\n",
    "#2nd point\n",
    "x0_ym,x6000_ym=zip(l1,l2)\n",
    "#join them\n",
    "plt.plot(x0_ym,x6000_ym, color='black', linewidth=0.75, label=\"Mean\")\n",
    "#plot them\n",
    "# plot the median\n",
    "l1=(0,md)\n",
    "#first point\n",
    "l2=(6000,md)\n",
    "#2nd point\n",
    "x0_ymd,x6000_ymd=zip(l1,l2)\n",
    "#join them\n",
    "plt.plot(x0_ymd,x6000_ymd, color='green', linewidth=2, label=\"Median\")\n",
    "#plot them\n",
    "plt.legend(loc=\"upper right\")\n",
    "\n",
    "plt.show()"
   ]
  },
  {
   "cell_type": "code",
   "execution_count": null,
   "id": "8aaddc8b-1453-470d-8242-8d6fabd5002d",
   "metadata": {},
   "outputs": [],
   "source": [
    "nums=np.array([3,4,9,17,18,20,22,23,29,32,39,42,42,51,59,97])"
   ]
  },
  {
   "cell_type": "code",
   "execution_count": null,
   "id": "6dcb6cf1-9feb-48b3-86a1-f1807a180561",
   "metadata": {},
   "outputs": [],
   "source": [
    "!pip install Statistics"
   ]
  },
  {
   "cell_type": "code",
   "execution_count": null,
   "id": "801c2404-4bb6-4879-93ac-8a7854f3e147",
   "metadata": {},
   "outputs": [],
   "source": [
    "import statistics"
   ]
  },
  {
   "cell_type": "code",
   "execution_count": null,
   "id": "55566f1d-1790-4e04-91ff-1b8eca9b46be",
   "metadata": {},
   "outputs": [],
   "source": [
    "statistics.quantiles(nums,n=4)"
   ]
  },
  {
   "cell_type": "code",
   "execution_count": null,
   "id": "d4d8653a-2797-4f1a-a79e-06545b6f9bb8",
   "metadata": {},
   "outputs": [],
   "source": [
    "statistics.quantiles(wt,n=4)"
   ]
  },
  {
   "cell_type": "code",
   "execution_count": null,
   "id": "2f594a6f-dadc-48cf-8c38-9604374919e4",
   "metadata": {},
   "outputs": [],
   "source": [
    "#using seabon make boxplot\n",
    "ax=sns.boxplot(x=wt)"
   ]
  },
  {
   "cell_type": "code",
   "execution_count": null,
   "id": "6f2efe4a-3838-437c-bc14-bf00afd88202",
   "metadata": {},
   "outputs": [],
   "source": [
    "male_wt=da.loc[da['RIAGENDR']==2,'BMXWT']\n",
    "female_wt=da.loc[da['RIAGENDR']==1,'BMXWT']\n"
   ]
  },
  {
   "cell_type": "markdown",
   "id": "331866a3-a4c9-4aa6-8d3a-459460e7d5c1",
   "metadata": {},
   "source": [
    "# loc is a funcation\n",
    "which select particular data from the data frame and return it\n",
    "**1st arg**= what you want to select on which base\n",
    "**2nd arg**= which col/key u want to select\n",
    "**here i exapmle i m selecting the gender from my dataframe where gender is 2 for male and 1 for female**\n",
    "it is same as sql select col from table where condition"
   ]
  },
  {
   "cell_type": "code",
   "execution_count": null,
   "id": "35e2e262-4eec-4d3a-9e1f-3c1abc3992f7",
   "metadata": {},
   "outputs": [],
   "source": [
    "female_wt"
   ]
  },
  {
   "cell_type": "code",
   "execution_count": 36,
   "id": "381bf3c3-bc8a-4efc-a982-1c88972fc314",
   "metadata": {},
   "outputs": [
    {
     "data": {
      "image/png": "[encoded data removed]",
      "text/plain": [
       "<Figure size 288x576 with 1 Axes>"
      ]
     },
     "metadata": {},
     "output_type": "display_data"
    }
   ],
   "source": [
    "plt.figure(figsize=(4,8))\n",
    "sns.set_style('whitegrid')\n",
    "#ax=sns.boxplot(data=[female_wt,male_wt],palette='Set3')\n",
    "#use easy approach\n",
    "ax=sns.boxplot(x='RIAGENDR',y='BMXWT',data=da,palette='Set3')"
   ]
  },
  {
   "cell_type": "code",
   "execution_count": null,
   "id": "700655d5-b18b-42c1-a26a-af3bc722aacb",
   "metadata": {},
   "outputs": [],
   "source": [
    "np.random.uniform(low=0.0,high=1.0)"
   ]
  },
  {
   "cell_type": "code",
   "execution_count": null,
   "id": "80d9af9f-47e7-4f1b-be0e-ca5099b1abcd",
   "metadata": {},
   "outputs": [],
   "source": [
    "np.random.uniform(low=0.0,high=1.0,size=10)"
   ]
  },
  {
   "cell_type": "markdown",
   "id": "eda681e5-ed8a-4640-9fdf-e9c5df107b95",
   "metadata": {},
   "source": [
    "**Generating a lot numbers using numpy**"
   ]
  },
  {
   "cell_type": "code",
   "execution_count": 37,
   "id": "2497f47d-e532-4a06-8b05-ed78f98b9572",
   "metadata": {},
   "outputs": [],
   "source": [
    "num_sample=10000"
   ]
  },
  {
   "cell_type": "code",
   "execution_count": 38,
   "id": "bddbef4c-f40e-412b-be27-c0ad9ec69eb2",
   "metadata": {},
   "outputs": [],
   "source": [
    "uniform_values=np.random.uniform(low=0.0,high=10.0,size=num_sample)"
   ]
  },
  {
   "cell_type": "code",
   "execution_count": 39,
   "id": "82df929b-c2e7-4376-babf-9f1c55e0aef3",
   "metadata": {},
   "outputs": [
    {
     "data": {
      "text/plain": [
       "array([9.91423745, 7.74356606, 6.37701154, ..., 8.62075712, 7.27815939,\n",
       "       1.82973221])"
      ]
     },
     "execution_count": 39,
     "metadata": {},
     "output_type": "execute_result"
    }
   ],
   "source": [
    "uniform_values"
   ]
  },
  {
   "cell_type": "code",
   "execution_count": 40,
   "id": "ddf9b3d7-330c-4829-83fa-6e2781e64577",
   "metadata": {},
   "outputs": [],
   "source": [
    "norm_values=np.random.normal(loc=5.0,scale=10.0,size=num_sample)"
   ]
  },
  {
   "cell_type": "code",
   "execution_count": 41,
   "id": "4c2be4fe-3644-448a-ad4a-3835b97ff3ab",
   "metadata": {},
   "outputs": [
    {
     "data": {
      "image/png": "[encoded data removed]",
      "text/plain": [
       "<Figure size 432x288 with 1 Axes>"
      ]
     },
     "metadata": {},
     "output_type": "display_data"
    }
   ],
   "source": [
    "sns.histplot(uniform_values,bins=20)\n",
    "plt.xlabel('Frequency')\n",
    "plt.ylabel('Value')\n",
    "plt.title('Uniform Values')\n",
    "sns.despine(offset=10,trim=True)\n",
    "plt.show()"
   ]
  },
  {
   "cell_type": "code",
   "execution_count": 42,
   "id": "ba620058-62bc-4d91-885a-20ee26dbbb05",
   "metadata": {},
   "outputs": [
    {
     "data": {
      "text/plain": [
       "array([17.56653192,  8.9025153 ,  6.35360969, ..., -7.79994624,\n",
       "        6.74859097,  7.07869119])"
      ]
     },
     "execution_count": 42,
     "metadata": {},
     "output_type": "execute_result"
    }
   ],
   "source": [
    "norm_values"
   ]
  },
  {
   "cell_type": "code",
   "execution_count": 43,
   "id": "04e22559-5e13-46bb-8b79-87c6e60304b8",
   "metadata": {},
   "outputs": [
    {
     "data": {
      "image/png": "[encoded data removed]",
      "text/plain": [
       "<Figure size 432x288 with 1 Axes>"
      ]
     },
     "metadata": {},
     "output_type": "display_data"
    }
   ],
   "source": [
    "sns.histplot(norm_values,bins=20)\n",
    "plt.xlabel('Value')\n",
    "plt.ylabel('Frequency')\n",
    "plt.title('Normal Values')\n",
    "sns.despine(offset=10,trim=True)\n",
    "plt.show()"
   ]
  },
  {
   "cell_type": "code",
   "execution_count": null,
   "id": "8457cfc7-cced-4a8f-89cb-8629ccfa8f1a",
   "metadata": {},
   "outputs": [],
   "source": [
    "print('Uniform vals mean:',np.mean(uniform_values))\n",
    "print('Normal vals mean:',np.mean(norm_values))"
   ]
  },
  {
   "cell_type": "code",
   "execution_count": null,
   "id": "4e41f060-3b3d-4055-b813-3972ed21a4be",
   "metadata": {},
   "outputs": [],
   "source": [
    "print('Uniform vals variance:',np.var(uniform_values))\n",
    "print('Normal vals variance:',np.var(norm_values))"
   ]
  },
  {
   "cell_type": "code",
   "execution_count": null,
   "id": "cdebd902-61c5-400e-833d-e821b0521d09",
   "metadata": {},
   "outputs": [],
   "source": [
    "print('Uniform vals sd:',np.std(uniform_values))\n",
    "print('Normal vals sd:',np.std(norm_values))"
   ]
  },
  {
   "cell_type": "code",
   "execution_count": 45,
   "id": "50449692-bf59-4806-8f2e-85d3da4811a4",
   "metadata": {},
   "outputs": [],
   "source": [
    "nv_mean=np.mean(norm_values)\n",
    "nv_sd=np.std(norm_values)"
   ]
  },
  {
   "cell_type": "code",
   "execution_count": 46,
   "id": "53e20575-05b9-45be-90f2-0709ba9e7ac0",
   "metadata": {},
   "outputs": [
    {
     "data": {
      "image/png": "[encoded data removed]",
      "text/plain": [
       "<Figure size 432x288 with 1 Axes>"
      ]
     },
     "metadata": {},
     "output_type": "display_data"
    }
   ],
   "source": [
    "sns.histplot(norm_values,bins=20)\n",
    "plt.xlim(-60,60)\n",
    "plt.xlabel(\"Value\")\n",
    "plt.ylabel(\"Frequency\")\n",
    "plt.title(\"Normal Values\")\n",
    "sns.despine(offset=10,trim=True)\n",
    "#plot mean\n",
    "mp1=(nv_mean,0)\n",
    "mp2=(nv_mean,1500)\n",
    "mx,my=zip(mp1,mp2)\n",
    "plt.plot(mx,my,color='green',linewidth=2)\n",
    "#plot mean-sd\n",
    "\n",
    "sdx,sdy=([nv_mean-nv_sd,nv_mean-nv_sd],[0,1500])\n",
    "plt.plot(sdx,sdy,color='red',linewidth=2)\n",
    "#plot mean+sd\n",
    "sdx,sdy=([nv_mean+nv_sd,nv_mean+nv_sd],[0,1500])\n",
    "plt.plot(sdx,sdy,color='red',linewidth=2)\n",
    "\n",
    "plt.show()"
   ]
  },
  {
   "cell_type": "code",
   "execution_count": null,
   "id": "077b044e-b17e-4e60-b7ca-9cca80a4c7e9",
   "metadata": {},
   "outputs": [],
   "source": [
    "norm_values1=np.random.normal(loc=5.0,scale=10.0,size=num_sample)\n",
    "norm_values2=np.random.normal(loc=5.0,scale=15.0,size=num_sample)"
   ]
  },
  {
   "cell_type": "code",
   "execution_count": null,
   "id": "751d0647-5ec6-40f3-92cb-7109c62485e6",
   "metadata": {},
   "outputs": [],
   "source": [
    "def makePlot(norm_values,label):\n",
    "    sns.histplot(norm_values,bins=20)\n",
    "    plt.xlim(-60,60)\n",
    "    plt.xlabel(\"Value\")\n",
    "    plt.ylabel(\"Frequency\")\n",
    "    plt.title(label)\n",
    "    sns.despine(offset=10,trim=True)\n",
    "    #plot mean\n",
    "    nv_mean=np.mean(norm_values)\n",
    "    mp1=(nv_mean,0)\n",
    "    mp2=(nv_mean,1500)\n",
    "    mx,my=zip(mp1,mp2)\n",
    "    plt.plot(mx,my,color='green',linewidth=2)\n",
    "    #plot mean-sd\n",
    "    nv_sd=np.std(norm_values)\n",
    "    sdx,sdy=([nv_mean-nv_sd,nv_mean-nv_sd],[0,1500])\n",
    "    plt.plot(sdx,sdy,color='red',linewidth=2)\n",
    "    #plot mean+sd\n",
    "    sdx,sdy=([nv_mean+nv_sd,nv_mean+nv_sd],[0,1500])\n",
    "    plt.plot(sdx,sdy,color='red',linewidth=2)\n",
    "\n",
    "    return plt.show()\n"
   ]
  },
  {
   "cell_type": "code",
   "execution_count": null,
   "id": "26876527-f572-45fe-96bc-765831c47001",
   "metadata": {},
   "outputs": [],
   "source": [
    "makePlot(norm_values1,'Less Variant')\n",
    "makePlot(norm_values2,'More variant')"
   ]
  },
  {
   "cell_type": "markdown",
   "id": "a84930a7-9040-49a6-bf0e-ff5fd596400d",
   "metadata": {},
   "source": [
    "# Working with Real world Dataset"
   ]
  },
  {
   "cell_type": "code",
   "execution_count": null,
   "id": "ea6ce990-f5f8-4bab-bec8-b825a4c51d6f",
   "metadata": {},
   "outputs": [],
   "source": [
    "!pip install sklearn"
   ]
  },
  {
   "cell_type": "code",
   "execution_count": null,
   "id": "5662d3ad-5d41-4e87-bb3c-c31caba80931",
   "metadata": {},
   "outputs": [],
   "source": [
    "import sklearn"
   ]
  },
  {
   "cell_type": "code",
   "execution_count": null,
   "id": "39852c3c-9fba-4560-8eb6-f5b8b05af8f5",
   "metadata": {},
   "outputs": [],
   "source": [
    "from sklearn.datasets import fetch_california_housing"
   ]
  },
  {
   "cell_type": "code",
   "execution_count": null,
   "id": "237ba82a-0e5a-4a01-b720-7b10376be3a2",
   "metadata": {},
   "outputs": [],
   "source": [
    "houses= fetch_california_housing()"
   ]
  },
  {
   "cell_type": "code",
   "execution_count": null,
   "id": "27869db0-18e6-4cdc-ac41-113d093cc6d0",
   "metadata": {},
   "outputs": [],
   "source": [
    "print(houses.DESCR)\n"
   ]
  },
  {
   "cell_type": "code",
   "execution_count": null,
   "id": "2af615e9-bcc7-4365-8c41-d899da8a13e8",
   "metadata": {},
   "outputs": [],
   "source": [
    "houses.feature_names"
   ]
  },
  {
   "cell_type": "code",
   "execution_count": null,
   "id": "857f0741-a36c-44c3-84ae-69407d55df7c",
   "metadata": {},
   "outputs": [],
   "source": [
    "houses.data.shape"
   ]
  },
  {
   "cell_type": "code",
   "execution_count": null,
   "id": "426b3b20-0b12-4e98-a90c-05d7d4568fae",
   "metadata": {},
   "outputs": [],
   "source": [
    "houses.data[0]"
   ]
  },
  {
   "cell_type": "code",
   "execution_count": null,
   "id": "ad5a6169-776c-4ce5-91f4-a743b0d3cef2",
   "metadata": {},
   "outputs": [],
   "source": [
    "houses.data[:10]"
   ]
  },
  {
   "cell_type": "code",
   "execution_count": null,
   "id": "9b7ebe57-891e-48c7-93c6-9de404da42ac",
   "metadata": {},
   "outputs": [],
   "source": [
    "[x for x in houses.data[:10]]"
   ]
  },
  {
   "cell_type": "code",
   "execution_count": null,
   "id": "0d4b5150-94c2-4746-b66d-e80510fe06e8",
   "metadata": {},
   "outputs": [],
   "source": [
    "[x[0] for x in houses.data[:10]]"
   ]
  },
  {
   "cell_type": "code",
   "execution_count": null,
   "id": "7e686404-222d-4c0e-aa5a-5f7c5bf5d7a7",
   "metadata": {},
   "outputs": [],
   "source": [
    "med_inc=[x[0] for x in houses.data]"
   ]
  },
  {
   "cell_type": "code",
   "execution_count": null,
   "id": "87ee4937-db47-4905-9ba8-3b0c9f6a17bc",
   "metadata": {},
   "outputs": [],
   "source": [
    "np.mean(med_inc)"
   ]
  },
  {
   "cell_type": "code",
   "execution_count": null,
   "id": "9c63354e-c1d3-489b-bd50-64692e5fc269",
   "metadata": {},
   "outputs": [],
   "source": [
    "sns.histplot(med_inc,bins=20)\n",
    "plt.xlabel(\"Median Income\")\n",
    "plt.ylabel(\"Frequency\")\n",
    "plt.title(\"Histogram of Median Income\")\n",
    "sns.despine(offset=10,trim=True)\n",
    "#plot mean\n",
    "nv_mean=np.mean(med_inc)\n",
    "mp1=(nv_mean,0)\n",
    "mp2=(nv_mean,4000)\n",
    "mx,my=zip(mp1,mp2)\n",
    "plt.plot(mx,my,color='green',linewidth=2)\n",
    "#plot mean-sd\n",
    "nv_sd=np.std(med_inc)\n",
    "sdx,sdy=([nv_mean-nv_sd,nv_mean-nv_sd],[0,1500])\n",
    "plt.plot(sdx,sdy,color='red',linewidth=2)\n",
    "#plot mean+sd\n",
    "sdx,sdy=([nv_mean+nv_sd,nv_mean+nv_sd],[0,1500])\n",
    "plt.plot(sdx,sdy,color='red',linewidth=2)\n",
    "\n",
    "plt.show()"
   ]
  },
  {
   "cell_type": "markdown",
   "id": "eba363ab-a0ef-4a80-894f-577df8ad0141",
   "metadata": {},
   "source": [
    "# Probability"
   ]
  },
  {
   "cell_type": "markdown",
   "id": "8d68837b-a6cd-415b-9d81-18f8ff6fcaf6",
   "metadata": {},
   "source": [
    "Information quantification unit is **entropy**. It also tells how much information u r loosing. like password strenght, comperssion, machine learning model, huffsman code etc. Bit is unit of entropy."
   ]
  },
  {
   "cell_type": "markdown",
   "id": "51c7d3b9-d277-4dbc-8da8-8527bf83aee0",
   "metadata": {},
   "source": [
    "**Two axioms of Probability:**\n",
    "    **1.** sum of all events must be one\n",
    "    **2.** Must lies [0-1] "
   ]
  },
  {
   "cell_type": "markdown",
   "id": "ac70ab50-ad08-4207-bfea-67232dd9b182",
   "metadata": {},
   "source": [
    "p=#of ways events can occurs / #of all possible outcomes"
   ]
  },
  {
   "cell_type": "code",
   "execution_count": null,
   "id": "5cfd74d5-8dfd-4f0d-8c50-2f8e90426ebe",
   "metadata": {},
   "outputs": [],
   "source": [
    "np.random.uniform(low=0.0,high=1.0)"
   ]
  },
  {
   "cell_type": "code",
   "execution_count": null,
   "id": "e12967f6-8899-45c4-b43f-5aae722038a6",
   "metadata": {},
   "outputs": [],
   "source": [
    "#genrate coin flip\n",
    "def flip(num=1):\n",
    "    flips=[]\n",
    "    \n",
    "    for i in range(num):\n",
    "        no=np.random.uniform(low=0.0,high=1.0)\n",
    "        if no>0.5:\n",
    "            flips.append('H')\n",
    "        else:\n",
    "            flips.append('T')\n",
    "    return flips            \n",
    "            "
   ]
  },
  {
   "cell_type": "code",
   "execution_count": null,
   "id": "ef02664d-c4cb-46f2-a269-92d0dfc42e80",
   "metadata": {},
   "outputs": [],
   "source": [
    "flip()"
   ]
  },
  {
   "cell_type": "code",
   "execution_count": null,
   "id": "01fc72a7-6300-459d-bed6-0b450666d71c",
   "metadata": {},
   "outputs": [],
   "source": [
    "flips=flip(13)"
   ]
  },
  {
   "cell_type": "code",
   "execution_count": null,
   "id": "55d2ddae-3e2d-4d68-aba8-c53381f6b173",
   "metadata": {},
   "outputs": [],
   "source": [
    "print(flips)"
   ]
  },
  {
   "cell_type": "markdown",
   "id": "77fc6c71-fe5e-4f47-a6e8-a8f4937efdd2",
   "metadata": {},
   "source": [
    "**Numpy frequency search**"
   ]
  },
  {
   "cell_type": "code",
   "execution_count": null,
   "id": "db2bdd24-43ba-4b83-b722-d37540adc0b0",
   "metadata": {},
   "outputs": [],
   "source": [
    "values,counts=np.unique(flips, return_counts=True)"
   ]
  },
  {
   "cell_type": "code",
   "execution_count": null,
   "id": "8ba2b4f9-9935-479e-b82a-4812a7612b02",
   "metadata": {},
   "outputs": [],
   "source": [
    "values,counts"
   ]
  },
  {
   "cell_type": "markdown",
   "id": "14e35617-ca55-4c54-b055-ea6103a88acb",
   "metadata": {},
   "source": [
    "we can genrate randoms but its not reporduceable so thats why have to use another approach\n",
    "these bugs are called **heisunbugs**. the bugs becomes but again not chance of again occuring"
   ]
  },
  {
   "cell_type": "code",
   "execution_count": null,
   "id": "dd4765b1-d06f-4d23-b893-a852bcf14667",
   "metadata": {},
   "outputs": [],
   "source": [
    "np.random.seed(0) # now sudo random with a sequnece again\n",
    "\n",
    "def flip(num=1):\n",
    "    flips=[]\n",
    "    \n",
    "    for i in range(num):\n",
    "        no=np.random.uniform(low=0.0,high=1.0)\n",
    "        if no>0.5:\n",
    "            flips.append('H')\n",
    "        else:\n",
    "            flips.append('T')\n",
    "    return flips\n",
    "flips=flip(10)\n",
    "print(flips)\n",
    "values,counts=np.unique(flips, return_counts=True)\n",
    "print(values,counts)"
   ]
  },
  {
   "cell_type": "code",
   "execution_count": null,
   "id": "1c7ec118-a395-4197-a6c3-0902a4f061d3",
   "metadata": {},
   "outputs": [],
   "source": [
    "from collections import Counter, defaultdict\n",
    "\n",
    "def get_freq(flips):\n",
    "    keys=Counter(flips).keys()\n",
    "    vals=Counter(flips).values()\n",
    "    #print(keys)\n",
    "    #print(vals)\n",
    "    #return dict(zip(keys,vals))# there is a bug if no H or no T then what?\n",
    "    return defaultdict(int,dict(zip(keys,vals)))# now we'll not get key error because default value is int which is 0"
   ]
  },
  {
   "cell_type": "code",
   "execution_count": null,
   "id": "cf7123c8-21f0-41d8-9ae6-262f3aa2f441",
   "metadata": {},
   "outputs": [],
   "source": [
    "freq=get_freq(flips)\n",
    "print(freq)"
   ]
  },
  {
   "cell_type": "code",
   "execution_count": null,
   "id": "c08cdcbf-2d1f-48c4-952a-ca8785ea2e03",
   "metadata": {},
   "outputs": [],
   "source": [
    "prob_h=freq['H']/len(flips)\n",
    "print(prob_h)"
   ]
  },
  {
   "cell_type": "code",
   "execution_count": null,
   "id": "85549b31-1c68-4034-b287-b0d8613232cf",
   "metadata": {},
   "outputs": [],
   "source": [
    "maximum_flips=1000\n",
    "probs=[]\n",
    "for num_flips in range(1, maximum_flips):\n",
    "    flips=flip(num_flips)\n",
    "    freq=get_freq(flips)\n",
    "    prob_h=freq['H']/len(flips)\n",
    "    probs.append(prob_h)\n",
    "print(probs)    "
   ]
  },
  {
   "cell_type": "code",
   "execution_count": null,
   "id": "14c8a4bd-e7e3-474a-abac-c187fa735014",
   "metadata": {},
   "outputs": [],
   "source": [
    "print(freq)\n",
    "print(np.mean(probs))"
   ]
  },
  {
   "cell_type": "code",
   "execution_count": null,
   "id": "dc4026c8-3629-4164-8479-f36a8a617ed3",
   "metadata": {},
   "outputs": [],
   "source": [
    "def plotProbs(probs,showMean=False):\n",
    "    plt.plot(probs)\n",
    "    plt.ylabel(\"Estimated Probability\")\n",
    "    plt.xlabel(\"No of flips in Experiment\")\n",
    "    plt.title('Calculating Probability over Number of flips')\n",
    "    if showMean:\n",
    "        p1,p2=zip([0,np.mean(probs)],[maximum_flips,np.mean(probs)])\n",
    "        plt.plot(p1,p2, color='red',linewidth=2,label='Mean')\n",
    "        plt.legend(loc=\"upper right\")\n",
    "    sns.despine(offset=10,trim=True)\n",
    "    \n",
    "    return plt.show()"
   ]
  },
  {
   "cell_type": "code",
   "execution_count": null,
   "id": "20177462-8799-4b92-8ef4-84566c191448",
   "metadata": {},
   "outputs": [],
   "source": [
    "plotProbs(probs,True)"
   ]
  },
  {
   "cell_type": "code",
   "execution_count": null,
   "id": "5c8a91bb-fd3f-440b-a071-3c1cac1243ae",
   "metadata": {},
   "outputs": [],
   "source": [
    "plotProbs(probs[:10],False)\n",
    "plotProbs(probs[maximum_flips-10:],False)"
   ]
  },
  {
   "cell_type": "markdown",
   "id": "78bf244b-4910-43dc-b7a7-b8c0baa76c23",
   "metadata": {},
   "source": [
    "# For interactivity we use another library here which is very similair to matplotlib"
   ]
  },
  {
   "cell_type": "code",
   "execution_count": null,
   "id": "35cd8d24-e79e-4b3b-b193-534f3dd8ed50",
   "metadata": {},
   "outputs": [],
   "source": [
    "!pip install bokeh"
   ]
  },
  {
   "cell_type": "code",
   "execution_count": null,
   "id": "5e1f6d5d-905c-4c64-a726-fc3fd35c4791",
   "metadata": {},
   "outputs": [],
   "source": [
    "from bokeh.io import show, output_notebook\n",
    "from bokeh.plotting import figure\n",
    "output_notebook()"
   ]
  },
  {
   "cell_type": "code",
   "execution_count": null,
   "id": "916e5e3f-9037-4a50-aae1-1a2491a8cc29",
   "metadata": {},
   "outputs": [],
   "source": [
    "p=figure(title=\"Sample line plot in Bookeh\",\n",
    "        x_axis_label=\"Number of Flips in Exeperiments\",\n",
    "        y_axis_label=\"Estimated Prob\",\n",
    "         plot_width=500, plot_height=300\n",
    "        )"
   ]
  },
  {
   "cell_type": "code",
   "execution_count": null,
   "id": "8de6725c-28da-4187-9a0d-c3f65fb5904c",
   "metadata": {},
   "outputs": [],
   "source": [
    "x=range(1,maximum_flips)\n",
    "p.line(x=x,y=probs)\n",
    "show(p)"
   ]
  },
  {
   "cell_type": "markdown",
   "id": "321b7f2b-b3c9-4d4f-b78a-1d44ae6005e7",
   "metadata": {},
   "source": [
    "# Rules of probability"
   ]
  },
  {
   "cell_type": "markdown",
   "id": "a2f58523-fdb7-4866-b0fd-f7c07d540ed5",
   "metadata": {
    "tags": []
   },
   "source": [
    "# Example of Mutually exclusive(independt)\n",
    "<img src=\"e1.PNG\" style=\"width:350px;height:350px\">"
   ]
  },
  {
   "cell_type": "markdown",
   "id": "e934c98f-e085-4bdc-963c-1801dd7f862e",
   "metadata": {},
   "source": [
    "# Example of non Mutually Exclusive (dependent)\n",
    "<img src=\"e2.PNG\" style=\"width:350px;height:350px\">"
   ]
  },
  {
   "cell_type": "markdown",
   "id": "d955cfab-0655-411a-a2a3-2d5524a74c8e",
   "metadata": {},
   "source": [
    "# Conditional Probability\n",
    "**P(A|B)=P(AnB)/P(B)**"
   ]
  },
  {
   "cell_type": "markdown",
   "id": "4505cdd7-5c65-447d-9337-de5d50af59e4",
   "metadata": {},
   "source": [
    "# Spam detection in emails\n",
    "<img src=\"e3.PNG\" style=\"width:350px;height:350px\">"
   ]
  },
  {
   "cell_type": "code",
   "execution_count": 1,
   "id": "93174dfd-b290-4568-965e-640f967e87a8",
   "metadata": {},
   "outputs": [],
   "source": [
    "import numpy as np\n",
    "import pandas as pd"
   ]
  },
  {
   "cell_type": "code",
   "execution_count": 2,
   "id": "edb6fcb2-7a06-494b-9f19-48a9f4199906",
   "metadata": {},
   "outputs": [],
   "source": [
    "url=\"E:/Datasets/spam_ham_dataset.csv\"\n"
   ]
  },
  {
   "cell_type": "code",
   "execution_count": 3,
   "id": "c13465e4-c53b-4279-987d-e441f88aca34",
   "metadata": {},
   "outputs": [],
   "source": [
    "spam_dataset=pd.read_csv(url)"
   ]
  },
  {
   "cell_type": "code",
   "execution_count": 4,
   "id": "6da75b95-eb9c-4a27-bbea-e7ec85ba1d86",
   "metadata": {},
   "outputs": [],
   "source": [
    "frame=np.array(spam_dataset)"
   ]
  },
  {
   "cell_type": "code",
   "execution_count": null,
   "id": "4224c800-129d-4e65-b310-e316b84603a0",
   "metadata": {},
   "outputs": [],
   "source": [
    "print(frame[0])"
   ]
  },
  {
   "cell_type": "code",
   "execution_count": 6,
   "id": "ce00e1bb-eabc-47da-b38f-1cdab4067b33",
   "metadata": {},
   "outputs": [],
   "source": [
    "spam=[]\n",
    "ham=[]\n",
    "for x in frame:\n",
    "    if x[1]==\"ham\":\n",
    "            ham.append(x[2])\n",
    "    elif x[1]==\"spam\":\n",
    "            spam.append(x[2]) \n",
    "\n",
    "\n",
    "        "
   ]
  },
  {
   "cell_type": "code",
   "execution_count": null,
   "id": "5112e9ee-d02d-4d1d-81ee-152e21aa5bcc",
   "metadata": {},
   "outputs": [],
   "source": [
    "spam"
   ]
  },
  {
   "cell_type": "code",
   "execution_count": null,
   "id": "5c300b44-0672-4291-b08b-81cc02321ff0",
   "metadata": {},
   "outputs": [],
   "source": [
    "ham"
   ]
  },
  {
   "cell_type": "markdown",
   "id": "c39f0891-57a4-4fc8-9d7e-29d33c175db9",
   "metadata": {},
   "source": [
    "# Basic Pre-processing"
   ]
  },
  {
   "cell_type": "code",
   "execution_count": null,
   "id": "f261f526-3b97-4084-9b5d-9e63113af772",
   "metadata": {},
   "outputs": [],
   "source": [
    "!pip install gensim"
   ]
  },
  {
   "cell_type": "code",
   "execution_count": 8,
   "id": "3a7edca0-5512-4237-a294-ccb847a4d5b1",
   "metadata": {},
   "outputs": [],
   "source": [
    "from gensim.parsing.preprocessing import remove_stopwords\n",
    "from gensim.parsing.porter import PorterStemmer\n",
    "from gensim.utils import tokenize"
   ]
  },
  {
   "cell_type": "code",
   "execution_count": null,
   "id": "4b49fa46-8bad-4ba9-ac09-3da6e55c1b29",
   "metadata": {},
   "outputs": [],
   "source": [
    "test_sentence=spam[1]\n",
    "\n",
    "print(test_sentence)\n",
    "#remove is am are for etc\n",
    "remove_stops=remove_stopwords(test_sentence)\n",
    "#print(remove_stops)"
   ]
  },
  {
   "cell_type": "code",
   "execution_count": null,
   "id": "a37ef343-40ec-4e64-a7cb-470e9e4a9d08",
   "metadata": {},
   "outputs": [],
   "source": [
    "p=PorterStemmer()\n",
    "stemmed=p.stem(remove_stops)\n",
    "#used for consider single word like early and earlier should consider as same earli \n",
    "print(stemmed)"
   ]
  },
  {
   "cell_type": "code",
   "execution_count": null,
   "id": "fcf5b5c0-bc5a-4a9d-8e0c-06d3a80011dd",
   "metadata": {},
   "outputs": [],
   "source": [
    "tokens=tokenize(stemmed)\n",
    "#convert into list of words\n",
    "print(list(tokens)) "
   ]
  },
  {
   "cell_type": "markdown",
   "id": "dead7318-15f8-41a7-b2a3-53d5af8bb0ff",
   "metadata": {},
   "source": [
    "# create a dictionary of words"
   ]
  },
  {
   "cell_type": "code",
   "execution_count": 14,
   "id": "c5974645-e4a0-4a28-bdc6-6c48aadb4ebb",
   "metadata": {},
   "outputs": [],
   "source": [
    "def tokenize_sentences(sentence):\n",
    "    p=PorterStemmer()\n",
    "    remove_stops=remove_stopwords(sentence)\n",
    "    stemmed=p.stem(remove_stops)\n",
    "    tokens=tokenize(stemmed)\n",
    "    return list(tokens)\n",
    "    "
   ]
  },
  {
   "cell_type": "code",
   "execution_count": null,
   "id": "6747ec51-da99-40fb-8c80-9e98bb68c817",
   "metadata": {},
   "outputs": [],
   "source": [
    "dictionary=set() # will have unique values only\n",
    "spam_tokenized=[]\n",
    "ham_tokenized=[]\n",
    "\n",
    "for sentence in spam:\n",
    "    sentence_tokens=tokenize_sentences(sentence)\n",
    "    spam_tokenized.append(sentence_tokens)\n",
    "    dictionary=dictionary.union(sentence_tokens)\n",
    "print(\"Tokenized spam:\",spam_tokenized)    "
   ]
  },
  {
   "cell_type": "code",
   "execution_count": null,
   "id": "e8623ed1-357b-43ac-a4a6-3a8a9420bdde",
   "metadata": {},
   "outputs": [],
   "source": [
    "    \n",
    "for sentence in ham:\n",
    "    sentence_tokens=tokenize_sentences(sentence)\n",
    "    ham_tokenized.append(sentence_tokens)\n",
    "    dictionary=dictionary.union(sentence_tokens) \n",
    "    \n",
    "print(\"Tokenized ham:\",ham_tokenized)    "
   ]
  },
  {
   "cell_type": "code",
   "execution_count": null,
   "id": "37467ddd-b1e3-45b9-8899-6367c2a736b4",
   "metadata": {},
   "outputs": [],
   "source": [
    "print(\"Dictionary:\",dictionary)"
   ]
  },
  {
   "cell_type": "markdown",
   "id": "b72cfe9f-6247-4152-980c-eb1a8540aad8",
   "metadata": {},
   "source": [
    "# Basic stats"
   ]
  },
  {
   "cell_type": "code",
   "execution_count": 65,
   "id": "f6d24168-dba5-4f67-a0ee-1f64293923a3",
   "metadata": {},
   "outputs": [
    {
     "name": "stdout",
     "output_type": "stream",
     "text": [
      "Total Number of words: 45611\n",
      "Total Number of spam_msgs: 1499\n",
      "Total Number of ham_msgs: 3672\n",
      "Total Number of all_msgs: 5171\n"
     ]
    }
   ],
   "source": [
    "#calculate the n.of words \n",
    "\n",
    "total_word_count=len(dictionary)\n",
    "total_spam_messages=len(spam_tokenized)\n",
    "toal_ham_messages=len(ham_tokenized)\n",
    "total_all_msgs=len(spam_tokenized)+len(ham_tokenized)\n",
    "\n",
    "print(\"Total Number of words:\",total_word_count)\n",
    "print(\"Total Number of spam_msgs:\",total_spam_messages)\n",
    "print(\"Total Number of ham_msgs:\",toal_ham_messages)\n",
    "print(\"Total Number of all_msgs:\",total_all_msgs)\n"
   ]
  },
  {
   "cell_type": "code",
   "execution_count": 20,
   "id": "5716be2c-5091-44b6-bc05-61d81289b748",
   "metadata": {},
   "outputs": [
    {
     "name": "stdout",
     "output_type": "stream",
     "text": [
      "P(spam) =  0.2898859021465867\n"
     ]
    }
   ],
   "source": [
    "#p(spam)\n",
    "p_spam=total_spam_messages/total_all_msgs\n",
    "print(\"P(spam) = \",p_spam)"
   ]
  },
  {
   "cell_type": "code",
   "execution_count": 21,
   "id": "807b8ec5-7692-4695-867b-ba9c4bfe2ff3",
   "metadata": {},
   "outputs": [],
   "source": [
    "#helper function to count occurances\n",
    "# this function will help us to find total times msg appears in msg uniquely\n",
    "def count_word_in_msgs(word,msgs):\n",
    "    total_count=0\n",
    "    for msf in msgs:\n",
    "        if word in msf:\n",
    "            total_count+=1\n",
    "    return total_count        "
   ]
  },
  {
   "cell_type": "code",
   "execution_count": null,
   "id": "5077931a-026e-4fcc-a6e1-7388958095f7",
   "metadata": {},
   "outputs": [],
   "source": [
    "spam_test=[spam[0]]\n",
    "\n",
    "for test_sentence in spam_test:\n",
    "    print(test_sentence)\n",
    "    tokenize_test_sentence=tokenize_sentences(test_sentence)\n",
    "    print(tokenize_test_sentence)"
   ]
  },
  {
   "cell_type": "markdown",
   "id": "4d9f2d62-45e2-42e3-a66a-4f05611335df",
   "metadata": {},
   "source": [
    "# The acutual Probability Computation"
   ]
  },
  {
   "cell_type": "code",
   "execution_count": null,
   "id": "0c0afa57-a24a-4758-83b9-3946314129fe",
   "metadata": {},
   "outputs": [],
   "source": [
    "final_prob=0\n",
    "spam_test=[spam[16]]\n",
    "for test_sentence in spam_test:\n",
    "    tokenize_test_sentence=tokenize_sentences(test_sentence)\n",
    "    #print(tokenize_test_sentence)\n",
    "    \n",
    "    #let's run this for each word seprately\n",
    "    for word in tokenize_test_sentence:\n",
    "        print(\"----------------------\")\n",
    "        print(\"Running for word:\", word)\n",
    "        \n",
    "        #find p(w/spam)\n",
    "        spam_count=count_word_in_msgs(word,spam_tokenized)\n",
    "        p_w_spam=spam_count/total_spam_messages\n",
    "        print(\"P(w|spam) = \",p_w_spam)\n",
    "        \n",
    "        #find P(w)\n",
    "        w_count=count_word_in_msgs(word,spam_tokenized)\n",
    "        w_count +=count_word_in_msgs(word,ham_tokenized)\n",
    "        p_w= w_count/total_all_msgs\n",
    "        print(\"P(w) =\",p_w)\n",
    "        \n",
    "        #find P(spam | w)\n",
    "        if p_w!=0:p_spam_w=(p_w_spam*p_spam)/p_w\n",
    "        else:p_spam_w=(p_w_spam*p_spam)\n",
    "        print(\"p(spam) =\",p_spam)\n",
    "        print(\"p(spam|w) =\",p_spam_w)\n",
    "        final_prob+=p_spam_w\n",
    "avg=final_prob/len(tokenize_test_sentence)        \n",
    "print(\"P(spam| all_words) = \",avg)\n",
    "if avg>0.5:\n",
    "    print(\"Its a spam msg\")\n",
    "else:\n",
    "    print(\"Not a spam\")"
   ]
  },
  {
   "cell_type": "markdown",
   "id": "bfc992e8-dd54-4a0f-a90b-3464c9d93c89",
   "metadata": {},
   "source": [
    "# Descrete Distribution"
   ]
  },
  {
   "cell_type": "markdown",
   "id": "e0af3bd6-1ab7-4330-a686-411be686c04f",
   "metadata": {},
   "source": [
    "**Bernouli distribution**: It always gives ans in Yes/No.\n",
    "  <br>**Formula**: $p(n;p) = {p}^{n}.{(p-1)}^{(1-n)} $\n",
    "  <br>where<br> **p** is prameter which is fixed before use and<br> **n** given by user\n",
    "  <br>**Note:** It is applicable when only single experiment is given<br>\n",
    "  **So what if n experiments are given with success rate p**<br>\n",
    "  Then the **Binomial Distribution** comes at front it is used in warning type example e.g virus<br>\n",
    "  **Formuala:** $p(X=k;n,p)=\t\\binom{n}{k} .{p^k}. {(1-p)^{(n-k)}} $ <br>\n",
    "  where <br>\n",
    "  **n & p** is prameters<br>\n",
    "  **k**     is will be random by user\n",
    "  <br> **X** can be an integer value not float"
   ]
  },
  {
   "cell_type": "code",
   "execution_count": 68,
   "id": "71df773f-c3c4-4c50-9db2-e7186d47923f",
   "metadata": {},
   "outputs": [],
   "source": [
    "import matplotlib.pyplot as plt\n",
    "%matplotlib inline\n",
    "\n",
    "import seaborn as sns\n",
    "sns.set(color_codes=True)\n",
    "\n",
    "import datetime"
   ]
  },
  {
   "cell_type": "markdown",
   "id": "d92204d4-ecad-4266-8061-097ce7a069b9",
   "metadata": {},
   "source": [
    "# Bernoulli Distribution"
   ]
  },
  {
   "cell_type": "code",
   "execution_count": 70,
   "id": "c50ab5a3-ec0c-4a07-b5ae-ee6a200f7060",
   "metadata": {},
   "outputs": [],
   "source": [
    "from scipy.stats import bernoulli"
   ]
  },
  {
   "cell_type": "code",
   "execution_count": 75,
   "id": "2483ed5a-dcb9-40ae-993c-80c34a546364",
   "metadata": {},
   "outputs": [
    {
     "data": {
      "image/png": "[encoded data removed]",
      "text/plain": [
       "<Figure size 432x288 with 1 Axes>"
      ]
     },
     "metadata": {},
     "output_type": "display_data"
    }
   ],
   "source": [
    "data_bern=bernoulli.rvs(size=10000,p=0.6)\n",
    "ax=sns.histplot(\n",
    "                data_bern,bins=100\n",
    ")\n",
    "a=ax.set(xlabel=\"Bernoulli Dsitribution\", ylabel=\"Frequency\")"
   ]
  },
  {
   "cell_type": "code",
   "execution_count": 74,
   "id": "a3f2c0cf-50ad-4d4f-a939-c30900ec5dc8",
   "metadata": {},
   "outputs": [],
   "source": [
    "from scipy.stats import binom"
   ]
  },
  {
   "cell_type": "code",
   "execution_count": 76,
   "id": "e8363444-3738-421c-a323-8395ca12909c",
   "metadata": {},
   "outputs": [
    {
     "data": {
      "image/png": "[encoded data removed]",
      "text/plain": [
       "<Figure size 432x288 with 1 Axes>"
      ]
     },
     "metadata": {},
     "output_type": "display_data"
    }
   ],
   "source": [
    "data_bern=binom.rvs(size=1000,p=0.6,n=10)\n",
    "ax=sns.histplot(\n",
    "                data_bern,bins=100\n",
    ")\n",
    "a=ax.set(xlabel=\"Binomial Dsitribution\", ylabel=\"Frequency\")"
   ]
  },
  {
   "cell_type": "code",
   "execution_count": 78,
   "id": "f5eee824-afff-473e-8e6e-c62bb3dc1435",
   "metadata": {},
   "outputs": [],
   "source": [
    "#commonly used for real world processes e.g itom decay, fashion trends \n",
    "# it tells when a event occurs after how much time event will again occurs\n",
    "from scipy.stats import poisson"
   ]
  },
  {
   "cell_type": "code",
   "execution_count": 79,
   "id": "546b52c6-858d-40d0-bcaa-2da8bbb76343",
   "metadata": {},
   "outputs": [
    {
     "data": {
      "image/png": "[encoded data removed]",
      "text/plain": [
       "<Figure size 432x288 with 1 Axes>"
      ]
     },
     "metadata": {},
     "output_type": "display_data"
    }
   ],
   "source": [
    "data_bern=poisson.rvs(size=10000,mu=3)\n",
    "ax=sns.histplot(\n",
    "                data_bern,bins=100\n",
    ")\n",
    "a=ax.set(xlabel=\"Poisson Dsitribution\", ylabel=\"Frequency\")"
   ]
  },
  {
   "cell_type": "markdown",
   "id": "243898f5-0b15-4ff0-8c04-f4fc57566b75",
   "metadata": {},
   "source": [
    "# Continous Distribution"
   ]
  },
  {
   "cell_type": "markdown",
   "id": "253f4b69-6dd7-4ca5-a89e-02eeea6076d3",
   "metadata": {},
   "source": [
    "Continous random variable dont have exact probability of a specific no e.g **5.0000...1** because when something is multiply by infinity it becomes zero. becuase real number has infinty range in b/w two points **So here is the problem** what we can do for it becuase we have to do calculation and others things\n"
   ]
  },
  {
   "cell_type": "markdown",
   "id": "9d59a192-5ba4-4beb-8ef2-972efe606329",
   "metadata": {},
   "source": [
    "**Likelyhood**: It is a function which takes some range / values and retrun the probability. **If value of it increase probability will also increase and vice versa.**"
   ]
  },
  {
   "cell_type": "markdown",
   "id": "2d0cacda-c16a-4432-81b6-f0c1b08d3945",
   "metadata": {},
   "source": [
    "**formula:**<br>\n",
    "$P(a<= X <= b)= \\int_a^b\\mathrm{f(x)}\\,\\mathrm{d}x$"
   ]
  },
  {
   "cell_type": "markdown",
   "id": "c8de9860-6252-4db6-b2ba-1004549c3de6",
   "metadata": {},
   "source": [
    "if $a=b$ **then** $P(X)=0$<br>\n",
    "   $a=-\\infty , b=\\infty$ **then** $P(X)=1$\n",
    "<br>**It uses in uniform distribution**   "
   ]
  },
  {
   "cell_type": "markdown",
   "id": "a72d2641-a0df-44d3-913f-75646317af76",
   "metadata": {},
   "source": [
    "# Normal Distribution/ Guasian Distribution"
   ]
  },
  {
   "cell_type": "markdown",
   "id": "119eda2c-f945-4c69-b46e-f7ce86e4b472",
   "metadata": {},
   "source": [
    "If the Distribution is not like uniform then<br>\n",
    "$peak=\\mu$ mean<br>\n",
    "$spread=\\sigma$ s.d<br>\n",
    "$f(x;\\mu,\\sigma)=\\frac{1}{\\sigma\\sqrt{2\\pi}}.\\mathrm{e}^{-\\frac{(x-\\mu)^2}{2\\pi}} $<br>\n",
    "if $x=\\mu$ then will get highest value"
   ]
  },
  {
   "cell_type": "markdown",
   "id": "bf80d54e-1595-4e72-a275-429211ee38a9",
   "metadata": {},
   "source": [
    "**Unifrom Distribution**"
   ]
  },
  {
   "cell_type": "code",
   "execution_count": 7,
   "id": "2967a73f-a277-40f0-bfbd-a16cc6e9f353",
   "metadata": {},
   "outputs": [],
   "source": [
    "import matplotlib.pyplot as plt\n",
    "%matplotlib inline\n",
    "import seaborn as sns\n",
    "sns.set(color_codes=True)"
   ]
  },
  {
   "cell_type": "code",
   "execution_count": 5,
   "id": "b2414c9c-f8df-4b08-81cf-05f3ba5a8d01",
   "metadata": {},
   "outputs": [
    {
     "data": {
      "text/plain": [
       "[Text(0.5, 0, 'Uniform Distribution'), Text(0, 0.5, 'Frequency')]"
      ]
     },
     "execution_count": 5,
     "metadata": {},
     "output_type": "execute_result"
    },
    {
     "data": {
      "image/png": "[encoded data removed]",
      "text/plain": [
       "<Figure size 432x288 with 1 Axes>"
      ]
     },
     "metadata": {
      "needs_background": "light"
     },
     "output_type": "display_data"
    }
   ],
   "source": [
    "from scipy.stats import uniform\n",
    "n=1000\n",
    "n *=10\n",
    "start=10\n",
    "width=20\n",
    "data_uniform=uniform.rvs(size=n,loc=start,scale=width)\n",
    "ax=sns.histplot(data_uniform,bins=100,\n",
    ")\n",
    "ax.set(xlabel=\"Uniform Distribution\",ylabel=\"Frequency\")"
   ]
  },
  {
   "cell_type": "code",
   "execution_count": 8,
   "id": "0bb0a301-dfbf-4e80-9452-c622fd3a9844",
   "metadata": {},
   "outputs": [
    {
     "data": {
      "image/png": "[encoded data removed]",
      "text/plain": [
       "<Figure size 432x288 with 1 Axes>"
      ]
     },
     "metadata": {},
     "output_type": "display_data"
    }
   ],
   "source": [
    "from scipy.stats import norm\n",
    "\n",
    "norm_uniform=norm.rvs(size=10000,loc=0,scale=1)\n",
    "ax=sns.histplot(norm_uniform,bins=100,kde=True\n",
    ")\n",
    "plt.xlim(-10,10)\n",
    "_=ax.set(xlabel=\"Normal Distribution\",ylabel=\"Frequency\")"
   ]
  },
  {
   "cell_type": "markdown",
   "id": "e2b28e3e-fa85-4a7e-b52f-e26638010eec",
   "metadata": {},
   "source": [
    "# Exponetial Distribution\n",
    "used in decay,inventry etc"
   ]
  },
  {
   "cell_type": "code",
   "execution_count": 11,
   "id": "1d85253c-5ae9-418f-80d6-f2a5f6c8ed29",
   "metadata": {},
   "outputs": [
    {
     "data": {
      "image/png": "[encoded data removed]",
      "text/plain": [
       "<Figure size 432x288 with 1 Axes>"
      ]
     },
     "metadata": {},
     "output_type": "display_data"
    }
   ],
   "source": [
    "from scipy.stats import expon\n",
    "\n",
    "norm_uniform=expon.rvs(size=10000,loc=0,scale=1)\n",
    "ax=sns.histplot(norm_uniform,bins=100,kde=True\n",
    ")\n",
    "\n",
    "_=ax.set(xlabel=\"Exponential Distribution\",ylabel=\"Frequency\")"
   ]
  },
  {
   "cell_type": "markdown",
   "id": "cddd428d-1304-43dd-9165-df83bb0d48be",
   "metadata": {},
   "source": [
    "# Beta Distribution\n",
    "beta and gemma used in data anyalsis at wide range"
   ]
  },
  {
   "cell_type": "code",
   "execution_count": 13,
   "id": "aa5c4814-5095-42d2-af10-0505839ce5f5",
   "metadata": {},
   "outputs": [
    {
     "data": {
      "image/png": "[encoded data removed]",
      "text/plain": [
       "<Figure size 432x288 with 1 Axes>"
      ]
     },
     "metadata": {},
     "output_type": "display_data"
    }
   ],
   "source": [
    "from scipy.stats import beta\n",
    "\n",
    "norm_uniform=beta.rvs(size=1000,a=2.31,b=0.627)\n",
    "ax=sns.histplot(norm_uniform,bins=100,kde=True\n",
    ")\n",
    "\n",
    "_=ax.set(xlabel=\"Normal Distribution\",ylabel=\"Frequency\")"
   ]
  },
  {
   "cell_type": "markdown",
   "id": "595ee5d6-5c7c-48d5-82db-df08897890e3",
   "metadata": {},
   "source": [
    "# Bayesian inference and Distribution"
   ]
  },
  {
   "cell_type": "markdown",
   "id": "627a5441-83a1-4b58-8e67-da5bfabdd3e0",
   "metadata": {},
   "source": [
    "**Sleep Data Analysis**"
   ]
  },
  {
   "cell_type": "code",
   "execution_count": 55,
   "id": "4ee07cfd-6189-47dd-82c4-5837e4946b1f",
   "metadata": {},
   "outputs": [],
   "source": [
    "import pandas as pd\n",
    "import numpy as np\n",
    "import datetime\n",
    "from IPython.core.pylabtools import figsize\n",
    "figsize(16,6)"
   ]
  },
  {
   "cell_type": "code",
   "execution_count": 24,
   "id": "59f4b998-02c0-4c57-a65b-4befe0a35af2",
   "metadata": {},
   "outputs": [
    {
     "data": {
      "image/png": "[encoded data removed]",
      "text/plain": [
       "<Figure size 1152x432 with 1 Axes>"
      ]
     },
     "metadata": {},
     "output_type": "display_data"
    }
   ],
   "source": [
    "sleep_data=pd.read_csv('E:/Datasets/sleep_data.csv')\n",
    "#label for plotting\n",
    "sleep_label=['9:00','9:30','10:00','10:30','11:00','11:30','12:00']\n",
    "\n",
    "#sleep_data\n",
    "plt.scatter(sleep_data['time_offset'],sleep_data['indicator'],\n",
    "           s=100,alpha=0.01,facecolor='b',edgecolors='b'\n",
    "           )\n",
    "plt.yticks([0,1],['Awake','Asleep'])\n",
    "plt.xlabel(\"PM Time\")\n",
    "plt.title(\"Failling Asleep Data\",size=10)\n",
    "plt.xticks([-60,-30,0,30,60,90,120],sleep_label)\n",
    "plt.show()"
   ]
  },
  {
   "cell_type": "code",
   "execution_count": 25,
   "id": "d74bb46a-c841-41e8-a2d2-5fcde50129e3",
   "metadata": {},
   "outputs": [
    {
     "data": {
      "text/html": [
       "<div>\n",
       "<style scoped>\n",
       "    .dataframe tbody tr th:only-of-type {\n",
       "        vertical-align: middle;\n",
       "    }\n",
       "\n",
       "    .dataframe tbody tr th {\n",
       "        vertical-align: top;\n",
       "    }\n",
       "\n",
       "    .dataframe thead th {\n",
       "        text-align: right;\n",
       "    }\n",
       "</style>\n",
       "<table border=\"1\" class=\"dataframe\">\n",
       "  <thead>\n",
       "    <tr style=\"text-align: right;\">\n",
       "      <th></th>\n",
       "      <th>Unnamed: 0</th>\n",
       "      <th>indicator</th>\n",
       "      <th>time_offset</th>\n",
       "    </tr>\n",
       "  </thead>\n",
       "  <tbody>\n",
       "    <tr>\n",
       "      <th>0</th>\n",
       "      <td>2017-12-01 21:00:00</td>\n",
       "      <td>0</td>\n",
       "      <td>-60</td>\n",
       "    </tr>\n",
       "    <tr>\n",
       "      <th>1</th>\n",
       "      <td>2017-12-01 21:01:00</td>\n",
       "      <td>0</td>\n",
       "      <td>-59</td>\n",
       "    </tr>\n",
       "    <tr>\n",
       "      <th>2</th>\n",
       "      <td>2017-12-01 21:02:00</td>\n",
       "      <td>0</td>\n",
       "      <td>-58</td>\n",
       "    </tr>\n",
       "    <tr>\n",
       "      <th>3</th>\n",
       "      <td>2017-12-01 21:03:00</td>\n",
       "      <td>0</td>\n",
       "      <td>-57</td>\n",
       "    </tr>\n",
       "    <tr>\n",
       "      <th>4</th>\n",
       "      <td>2017-12-01 21:04:00</td>\n",
       "      <td>0</td>\n",
       "      <td>-56</td>\n",
       "    </tr>\n",
       "  </tbody>\n",
       "</table>\n",
       "</div>"
      ],
      "text/plain": [
       "            Unnamed: 0  indicator  time_offset\n",
       "0  2017-12-01 21:00:00          0          -60\n",
       "1  2017-12-01 21:01:00          0          -59\n",
       "2  2017-12-01 21:02:00          0          -58\n",
       "3  2017-12-01 21:03:00          0          -57\n",
       "4  2017-12-01 21:04:00          0          -56"
      ]
     },
     "execution_count": 25,
     "metadata": {},
     "output_type": "execute_result"
    }
   ],
   "source": [
    "sleep_data.head()"
   ]
  },
  {
   "cell_type": "code",
   "execution_count": 26,
   "id": "79f94d1c-e025-4372-841e-937ea86db2dc",
   "metadata": {},
   "outputs": [],
   "source": [
    "#sort value by offset\n",
    "sleep_data.sort_values('time_offset',inplace=True)\n",
    "# Time is the time offset\n",
    "time=np.array(sleep_data.loc[:,'time_offset'])\n",
    "#Observation are the indicator\n",
    "sleep_ob=np.array(sleep_data.loc[:,'indicator'])"
   ]
  },
  {
   "cell_type": "code",
   "execution_count": 27,
   "id": "1975cdcc-cfba-4cf8-8fed-b98e70159cde",
   "metadata": {},
   "outputs": [
    {
     "data": {
      "text/html": [
       "<div>\n",
       "<style scoped>\n",
       "    .dataframe tbody tr th:only-of-type {\n",
       "        vertical-align: middle;\n",
       "    }\n",
       "\n",
       "    .dataframe tbody tr th {\n",
       "        vertical-align: top;\n",
       "    }\n",
       "\n",
       "    .dataframe thead th {\n",
       "        text-align: right;\n",
       "    }\n",
       "</style>\n",
       "<table border=\"1\" class=\"dataframe\">\n",
       "  <thead>\n",
       "    <tr style=\"text-align: right;\">\n",
       "      <th></th>\n",
       "      <th>Unnamed: 0</th>\n",
       "      <th>indicator</th>\n",
       "      <th>time_offset</th>\n",
       "    </tr>\n",
       "  </thead>\n",
       "  <tbody>\n",
       "    <tr>\n",
       "      <th>0</th>\n",
       "      <td>2017-12-01 21:00:00</td>\n",
       "      <td>0</td>\n",
       "      <td>-60</td>\n",
       "    </tr>\n",
       "    <tr>\n",
       "      <th>4320</th>\n",
       "      <td>2017-12-25 21:00:00</td>\n",
       "      <td>0</td>\n",
       "      <td>-60</td>\n",
       "    </tr>\n",
       "    <tr>\n",
       "      <th>1260</th>\n",
       "      <td>2017-12-08 21:00:00</td>\n",
       "      <td>0</td>\n",
       "      <td>-60</td>\n",
       "    </tr>\n",
       "    <tr>\n",
       "      <th>10080</th>\n",
       "      <td>2018-01-26 21:00:00</td>\n",
       "      <td>0</td>\n",
       "      <td>-60</td>\n",
       "    </tr>\n",
       "    <tr>\n",
       "      <th>6840</th>\n",
       "      <td>2018-01-08 21:00:00</td>\n",
       "      <td>0</td>\n",
       "      <td>-60</td>\n",
       "    </tr>\n",
       "  </tbody>\n",
       "</table>\n",
       "</div>"
      ],
      "text/plain": [
       "                Unnamed: 0  indicator  time_offset\n",
       "0      2017-12-01 21:00:00          0          -60\n",
       "4320   2017-12-25 21:00:00          0          -60\n",
       "1260   2017-12-08 21:00:00          0          -60\n",
       "10080  2018-01-26 21:00:00          0          -60\n",
       "6840   2018-01-08 21:00:00          0          -60"
      ]
     },
     "execution_count": 27,
     "metadata": {},
     "output_type": "execute_result"
    }
   ],
   "source": [
    "sleep_data.head()"
   ]
  },
  {
   "cell_type": "code",
   "execution_count": 28,
   "id": "b314a6be-2ca6-4597-83f1-f02a752530ac",
   "metadata": {},
   "outputs": [
    {
     "data": {
      "text/html": [
       "<div>\n",
       "<style scoped>\n",
       "    .dataframe tbody tr th:only-of-type {\n",
       "        vertical-align: middle;\n",
       "    }\n",
       "\n",
       "    .dataframe tbody tr th {\n",
       "        vertical-align: top;\n",
       "    }\n",
       "\n",
       "    .dataframe thead th {\n",
       "        text-align: right;\n",
       "    }\n",
       "</style>\n",
       "<table border=\"1\" class=\"dataframe\">\n",
       "  <thead>\n",
       "    <tr style=\"text-align: right;\">\n",
       "      <th></th>\n",
       "      <th>Unnamed: 0</th>\n",
       "      <th>indicator</th>\n",
       "      <th>time_offset</th>\n",
       "    </tr>\n",
       "  </thead>\n",
       "  <tbody>\n",
       "    <tr>\n",
       "      <th>8999</th>\n",
       "      <td>2018-01-19 23:59:00</td>\n",
       "      <td>1</td>\n",
       "      <td>119</td>\n",
       "    </tr>\n",
       "    <tr>\n",
       "      <th>2159</th>\n",
       "      <td>2017-12-12 23:59:00</td>\n",
       "      <td>1</td>\n",
       "      <td>119</td>\n",
       "    </tr>\n",
       "    <tr>\n",
       "      <th>9179</th>\n",
       "      <td>2018-01-20 23:59:00</td>\n",
       "      <td>1</td>\n",
       "      <td>119</td>\n",
       "    </tr>\n",
       "    <tr>\n",
       "      <th>5579</th>\n",
       "      <td>2017-12-31 23:59:00</td>\n",
       "      <td>1</td>\n",
       "      <td>119</td>\n",
       "    </tr>\n",
       "    <tr>\n",
       "      <th>11339</th>\n",
       "      <td>2018-02-01 23:59:00</td>\n",
       "      <td>1</td>\n",
       "      <td>119</td>\n",
       "    </tr>\n",
       "  </tbody>\n",
       "</table>\n",
       "</div>"
      ],
      "text/plain": [
       "                Unnamed: 0  indicator  time_offset\n",
       "8999   2018-01-19 23:59:00          1          119\n",
       "2159   2017-12-12 23:59:00          1          119\n",
       "9179   2018-01-20 23:59:00          1          119\n",
       "5579   2017-12-31 23:59:00          1          119\n",
       "11339  2018-02-01 23:59:00          1          119"
      ]
     },
     "execution_count": 28,
     "metadata": {},
     "output_type": "execute_result"
    }
   ],
   "source": [
    "sleep_data.tail()"
   ]
  },
  {
   "cell_type": "code",
   "execution_count": 29,
   "id": "3cbe02e8-594e-49eb-89cd-058183bc814f",
   "metadata": {},
   "outputs": [
    {
     "data": {
      "text/plain": [
       "array([-60, -60, -60, ..., 119, 119, 119], dtype=int64)"
      ]
     },
     "execution_count": 29,
     "metadata": {},
     "output_type": "execute_result"
    }
   ],
   "source": [
    "time"
   ]
  },
  {
   "cell_type": "code",
   "execution_count": 30,
   "id": "a6376455-3feb-4316-aea6-9d2765aeba6e",
   "metadata": {},
   "outputs": [
    {
     "data": {
      "text/plain": [
       "array([0, 0, 0, ..., 1, 1, 1], dtype=int64)"
      ]
     },
     "execution_count": 30,
     "metadata": {},
     "output_type": "execute_result"
    }
   ],
   "source": [
    "sleep_ob"
   ]
  },
  {
   "cell_type": "markdown",
   "id": "7e62c589-35e4-43e5-acdd-93a3c5c4569c",
   "metadata": {},
   "source": [
    "**Calculating Probability at a particular time**"
   ]
  },
  {
   "cell_type": "code",
   "execution_count": 31,
   "id": "6b258966-1ec6-449b-bf04-51f5cb7b0f31",
   "metadata": {},
   "outputs": [],
   "source": [
    "time_offset=14 # means 10:14\n"
   ]
  },
  {
   "cell_type": "code",
   "execution_count": 32,
   "id": "ff26b741-b24f-4e89-9b51-778f4c2126ba",
   "metadata": {},
   "outputs": [],
   "source": [
    "awake_vals=sleep_data.loc[(sleep_data['time_offset']==time_offset)&(sleep_data['indicator']==0)]"
   ]
  },
  {
   "cell_type": "code",
   "execution_count": 33,
   "id": "ba08df5c-dff5-4819-9d9d-58468379f0e8",
   "metadata": {},
   "outputs": [],
   "source": [
    "sleep_vals=sleep_data.loc[(sleep_data['time_offset']==time_offset)&(sleep_data['indicator']==1)]"
   ]
  },
  {
   "cell_type": "code",
   "execution_count": 34,
   "id": "eb40f5a4-ca84-43f4-89af-5d9e6518cef9",
   "metadata": {},
   "outputs": [
    {
     "name": "stdout",
     "output_type": "stream",
     "text": [
      "sleep Vals: 29 awake vals: 34\n"
     ]
    }
   ],
   "source": [
    "print(\"sleep Vals:\",len(sleep_vals),\"awake vals:\",len(awake_vals))"
   ]
  },
  {
   "cell_type": "markdown",
   "id": "c8bd7575-e785-4ff7-adf8-a9274dd05f13",
   "metadata": {},
   "source": [
    "**Calculate prob by using length**"
   ]
  },
  {
   "cell_type": "code",
   "execution_count": 38,
   "id": "7a96fc15-7f0f-473f-bf05-f5744954d42f",
   "metadata": {},
   "outputs": [
    {
     "name": "stdout",
     "output_type": "stream",
     "text": [
      "Probability of sleep at 10:14 PM is  0.4603174603174603\n"
     ]
    }
   ],
   "source": [
    "l_sleep=len(sleep_vals)\n",
    "l_awake=len(awake_vals)\n",
    "n=l_sleep+l_awake\n",
    "p_sleep_offset=l_sleep/ n\n",
    "print(\"Probability of sleep at 10:14 PM is \",p_sleep_offset)"
   ]
  },
  {
   "cell_type": "markdown",
   "id": "55415add-e448-45ed-b2ec-857365805a72",
   "metadata": {},
   "source": [
    "**Calculating the Prior**"
   ]
  },
  {
   "cell_type": "code",
   "execution_count": 40,
   "id": "1ea73ef6-151b-4820-9e47-c066a62e2ee6",
   "metadata": {},
   "outputs": [],
   "source": [
    "alpha=0.977400\n",
    "beta=-0.067270\n",
    "def calculate_parior(time,alpha,beta):\n",
    "    p=1.0/(1.0+ np.exp(np.dot(beta,time)+alpha))\n",
    "    return p\n",
    "time_est=np.linspace(time.min()-5,time.max()+5,1000)[:,None]\n",
    "#prob at each time using mean values of alpha and beta\n",
    "sleep_est=calculate_parior(time_est,alpha,beta)"
   ]
  },
  {
   "cell_type": "code",
   "execution_count": 45,
   "id": "e10d92e1-ca03-47d9-a126-8b41ecc11cda",
   "metadata": {},
   "outputs": [
    {
     "data": {
      "image/png": "[encoded data removed]",
      "text/plain": [
       "<Figure size 1152x432 with 1 Axes>"
      ]
     },
     "metadata": {},
     "output_type": "display_data"
    }
   ],
   "source": [
    "plt.plot(time_est,sleep_est,color='green',lw=1,label='Model')\n",
    "\n",
    "plt.scatter(time,sleep_ob,\n",
    "           s=10,alpha=0.1,edgecolors='navy',\n",
    "            label='Observation'\n",
    "           )\n",
    "plt.ylabel(\"Probability\")\n",
    "plt.xlabel(\"PM Time\")\n",
    "plt.legend()\n",
    "plt.title(\"Parior Probability Distribution for sleep as function of Time\")\n",
    "plt.xticks([-60,-30,0,30,60,90,120],sleep_label)\n",
    "plt.show()"
   ]
  },
  {
   "cell_type": "code",
   "execution_count": 52,
   "id": "f05fc659-99f4-4603-a0b4-ee09efaee25d",
   "metadata": {},
   "outputs": [
    {
     "name": "stdout",
     "output_type": "stream",
     "text": [
      "The Prob of sleep increase to above 50% at 10:14 PM.\n",
      "\n",
      "9:30 PM Prob of being asleep:4.76%.\n"
     ]
    }
   ],
   "source": [
    "print(\"The Prob of sleep increase to above 50% at 10:{} PM.\\n\".format(int(time_est[np.where(sleep_est>0.5)[0][0]][0])))\n",
    "p=calculate_parior(-30,alpha,beta)\n",
    "print('9:30 PM Prob of being asleep:{:.2f}%.'.format(100 *p ))"
   ]
  },
  {
   "cell_type": "markdown",
   "id": "807852ff-d9d9-4c6d-86f9-44be20667794",
   "metadata": {},
   "source": [
    "**Bayes Update on Distributions** "
   ]
  },
  {
   "cell_type": "code",
   "execution_count": 54,
   "id": "25efcf74-a7f2-48b8-aa77-6d49a6eb2913",
   "metadata": {},
   "outputs": [],
   "source": [
    "#likelihood\n",
    "\n",
    "#p(light|sleep)\n",
    "light_sleep=0.01\n",
    "\n",
    "#p(nolight|sleep)\n",
    "no_light_sleep=0.99\n",
    "\n",
    "#p(nolight| nosleep)\n",
    "nolight_nosleep=0.2\n",
    "\n",
    "#p(light|nosleep)\n",
    "light_nosleep=0.8"
   ]
  },
  {
   "cell_type": "code",
   "execution_count": 65,
   "id": "f721f8bd-95a6-4021-ad62-3bbde785aadb",
   "metadata": {},
   "outputs": [],
   "source": [
    "def update_prob(time_offset,light):\n",
    "    #calculate the parior for the given time\n",
    "    prior_prob=calculate_parior(time_offset,alpha,beta)\n",
    "    #Account for evidence\n",
    "    if light==0:\n",
    "        likelihood=no_light_sleep\n",
    "        non_lineklihood=nolight_nosleep\n",
    "    elif light==1:\n",
    "        likelihood=light_sleep\n",
    "        non_lineklihood=light_nosleep\n",
    "    #rewrite in terms of bayes rule\n",
    "    numerator=likelihood * prior_prob\n",
    "    denominator=(likelihood* prior_prob)+(non_lineklihood*(1-prior_prob))\n",
    "    \n",
    "    conditional_prob=numerator/denominator\n",
    "    \n",
    "    if type(time_offset)==int:\n",
    "        time=datetime.datetime(2017,1,1,10,0,0)\n",
    "        new_time=str((time+datetime.timedelta(minutes=time_offset)).time())\n",
    "        print('Time{} PM\\nLight is {}.'.format(new_time, 'ON' if light==1 else 'OFF'))\n",
    "        print('The prior prob of sleep: {:.2f}%'.format(100*prior_prob)\n",
    "             )\n",
    "        print('The updated prob of sleep: {:.2f}%'.format(100*conditional_prob)\n",
    "             )\n",
    "    return conditional_prob         "
   ]
  },
  {
   "cell_type": "code",
   "execution_count": 63,
   "id": "c5beefbd-e9ba-4607-9690-fb30cc0a0a2c",
   "metadata": {},
   "outputs": [
    {
     "name": "stdout",
     "output_type": "stream",
     "text": [
      "Time10:30:00 PM\n",
      "Light is ON.\n",
      "The prior prob of sleep: 73.90%\n",
      "The updated prob of sleep: 3.42%\n"
     ]
    }
   ],
   "source": [
    "result=update_prob(time_offset=30,light=1)"
   ]
  },
  {
   "cell_type": "code",
   "execution_count": 66,
   "id": "3a4a5704-085b-470f-a0e6-d9ce21d97982",
   "metadata": {},
   "outputs": [
    {
     "name": "stdout",
     "output_type": "stream",
     "text": [
      "Time10:30:00 PM\n",
      "Light is OFF.\n",
      "The prior prob of sleep: 73.90%\n",
      "The updated prob of sleep: 93.34%\n"
     ]
    }
   ],
   "source": [
    "result=update_prob(time_offset=30,light=0)"
   ]
  },
  {
   "cell_type": "markdown",
   "id": "5e9a7add-1bc2-41af-a41c-237d8011997a",
   "metadata": {},
   "source": [
    "**Updating All Priors Independenantly**"
   ]
  },
  {
   "cell_type": "code",
   "execution_count": 67,
   "id": "24628ecf-7f1f-4d9b-bc13-e6329e2473fd",
   "metadata": {},
   "outputs": [],
   "source": [
    "light_on_prob=update_prob(time_est,light=1)\n",
    "light_off_prob=update_prob(time_est,light=0)"
   ]
  },
  {
   "cell_type": "code",
   "execution_count": 70,
   "id": "c2394cc4-6a9b-434b-8022-90ce64e8e604",
   "metadata": {},
   "outputs": [
    {
     "data": {
      "image/png": "[encoded data removed]",
      "text/plain": [
       "<Figure size 1152x432 with 1 Axes>"
      ]
     },
     "metadata": {},
     "output_type": "display_data"
    }
   ],
   "source": [
    "plt.plot(time_est,sleep_est,color='black',lw=3,linestyle='--',label='Prior Prob')\n",
    "plt.plot(time_est,light_on_prob,color='darkred',lw=1,label='Light On Prob')\n",
    "plt.plot(time_est,light_off_prob,color='darkgreen',lw=1,label='Light Off Prob')\n",
    "plt.scatter(time,sleep_ob,edgecolor='slateblue',s=20,alpha=0.1,label='Observation')\n",
    "plt.ylabel(\"Probability\")\n",
    "plt.xlabel(\"PM Time\")\n",
    "plt.legend(loc=2)\n",
    "plt.title(\"Updated Probability Distribution for sleep as function of Time\")\n",
    "plt.xticks([-60,-30,0,30,60,90,120],sleep_label)\n",
    "plt.show()"
   ]
  },
  {
   "cell_type": "markdown",
   "id": "1ab08fb3-ad59-4529-8a3b-825bd9b3d0e3",
   "metadata": {},
   "source": [
    "# Distribution, Contours and Everything else"
   ]
  },
  {
   "cell_type": "code",
   "execution_count": 71,
   "id": "ef6bbb4a-962d-40d1-a56f-8390b44c0929",
   "metadata": {},
   "outputs": [],
   "source": [
    "import numpy as np\n",
    "np.random.seed(1337)"
   ]
  },
  {
   "cell_type": "code",
   "execution_count": 72,
   "id": "82ab5143-dabb-4946-a99d-9825fcffc71c",
   "metadata": {},
   "outputs": [],
   "source": [
    "import matplotlib.pyplot as plt\n",
    "from mpl_toolkits.mplot3d import Axes3D\n",
    "%matplotlib inline\n",
    "plt.style.use('ggplot')"
   ]
  },
  {
   "cell_type": "code",
   "execution_count": 76,
   "id": "add638ac-566b-4c59-a96b-f83623e7b6d4",
   "metadata": {},
   "outputs": [],
   "source": [
    "num_bins=5\n",
    "num_samples=100000\n",
    "data=100+10* np.random.randn(num_samples,2) # gen 2d random data points\n",
    "joint_probs,edges=np.histogramdd(data,bins=num_bins)\n",
    "\n",
    "edges=np.array(edges)[:,1:]"
   ]
  },
  {
   "cell_type": "code",
   "execution_count": 77,
   "id": "bc8d23a5-9fe1-429c-abe0-87e2cad7d4a0",
   "metadata": {},
   "outputs": [
    {
     "name": "stdout",
     "output_type": "stream",
     "text": [
      "[[ 75.40655602  92.19969099 108.99282596 125.78596092 142.57909589]\n",
      " [ 72.09507856  89.28824791 106.48141727 123.67458663 140.86775599]]\n"
     ]
    }
   ],
   "source": [
    "print(edges)"
   ]
  },
  {
   "cell_type": "code",
   "execution_count": 78,
   "id": "a1abf235-e309-473b-bfbb-5f4fb845f713",
   "metadata": {},
   "outputs": [
    {
     "data": {
      "text/plain": [
       "(5, 5)"
      ]
     },
     "execution_count": 78,
     "metadata": {},
     "output_type": "execute_result"
    }
   ],
   "source": [
    "joint_probs.shape"
   ]
  },
  {
   "cell_type": "code",
   "execution_count": 79,
   "id": "6b647402-1bff-49de-8b43-9c9d43ce3c66",
   "metadata": {},
   "outputs": [
    {
     "name": "stdout",
     "output_type": "stream",
     "text": [
      "Cut X and Y on: 2\n"
     ]
    }
   ],
   "source": [
    "cut_point= int(num_bins/2)\n",
    "X_vals=np.array(joint_probs[cut_point])\n",
    "X_vals/=X_vals.sum()\n",
    "\n",
    "Y_vals=np.array([row[cut_point] for row in joint_probs])\n",
    "Y_vals/=Y_vals.sum()\n",
    "\n",
    "print('Cut X and Y on:',cut_point)"
   ]
  },
  {
   "cell_type": "code",
   "execution_count": 81,
   "id": "63826c0e-8000-4194-b3d9-cd6013fe1027",
   "metadata": {},
   "outputs": [
    {
     "name": "stdout",
     "output_type": "stream",
     "text": [
      "[ 75.40655602  92.19969099 108.99282596 125.78596092 142.57909589]\n",
      "[0.00331675 0.13871719 0.60034843 0.24796891 0.00964873]\n",
      "[0.00710687 0.21285576 0.59789463 0.17760502 0.00453772]\n"
     ]
    }
   ],
   "source": [
    "print(edges[0])\n",
    "print(X_vals)\n",
    "print(Y_vals)"
   ]
  },
  {
   "cell_type": "code",
   "execution_count": 83,
   "id": "8f627e13-0c6d-4a20-976b-a7d202619bc9",
   "metadata": {},
   "outputs": [
    {
     "data": {
      "image/png": "[encoded data removed]",
      "text/plain": [
       "<Figure size 432x288 with 1 Axes>"
      ]
     },
     "metadata": {},
     "output_type": "display_data"
    }
   ],
   "source": [
    "plt.bar(edges[0],X_vals)\n",
    "plt.ylabel(\"Frequency\")\n",
    "plt.xlabel('Number')\n",
    "plt.title('Distribution of X_Vals')\n",
    "plt.show()"
   ]
  },
  {
   "cell_type": "code",
   "execution_count": 85,
   "id": "81815e09-414e-4089-8174-c6e5db5aa355",
   "metadata": {},
   "outputs": [
    {
     "data": {
      "image/png": "[encoded data removed]",
      "text/plain": [
       "<Figure size 432x288 with 1 Axes>"
      ]
     },
     "metadata": {},
     "output_type": "display_data"
    }
   ],
   "source": [
    "plt.bar(edges[1],Y_vals)\n",
    "plt.ylabel(\"Frequency\")\n",
    "plt.xlabel('Number')\n",
    "plt.title('Distribution of Y_Vals')\n",
    "plt.show()"
   ]
  },
  {
   "cell_type": "code",
   "execution_count": 90,
   "id": "59e8cdc4-df99-47b0-bb91-dc67953771cd",
   "metadata": {},
   "outputs": [],
   "source": [
    "X=edges[0]\n",
    "Y=edges[1]\n",
    "X,Y=np.meshgrid(X,Y)\n",
    "\n",
    "Z=joint_probs/joint_probs.sum()"
   ]
  },
  {
   "cell_type": "code",
   "execution_count": 91,
   "id": "1e1a66a0-0271-4189-9fa9-95944199b60a",
   "metadata": {},
   "outputs": [
    {
     "data": {
      "text/plain": [
       "Text(0.5, 0, 'Z')"
      ]
     },
     "execution_count": 91,
     "metadata": {},
     "output_type": "execute_result"
    },
    {
     "data": {
      "image/png": "[encoded data removed]",
      "text/plain": [
       "<Figure size 432x288 with 1 Axes>"
      ]
     },
     "metadata": {},
     "output_type": "display_data"
    }
   ],
   "source": [
    "fig=plt.figure()\n",
    "ax=plt.axes(projection='3d')\n",
    "\n",
    "ax.plot_surface(X,Y,Z,rstride=1,cstride=1,cmap='viridis')\n",
    "ax.view_init(45,30)\n",
    "ax.set_xlabel('X')\n",
    "ax.set_ylabel('Y')\n",
    "ax.set_zlabel('Z')"
   ]
  },
  {
   "cell_type": "code",
   "execution_count": 95,
   "id": "ba8b70f3-2137-433a-9afd-471e631ea89f",
   "metadata": {},
   "outputs": [
    {
     "data": {
      "image/png": "[encoded data removed]",
      "text/plain": [
       "<Figure size 432x288 with 2 Axes>"
      ]
     },
     "metadata": {},
     "output_type": "display_data"
    }
   ],
   "source": [
    "fig,ax=plt.subplots(1,1)\n",
    "cp=ax.contourf(X,Y,Z)\n",
    "fig.colorbar(cp)#add a colorbar\n",
    "ax.set_title('Counter Plot')\n",
    "ax.set_xlabel('X')\n",
    "ax.set_ylabel('Y')\n",
    "plt.show()"
   ]
  },
  {
   "cell_type": "code",
   "execution_count": 96,
   "id": "10cac198-a001-481d-976a-4811592d9bbc",
   "metadata": {},
   "outputs": [],
   "source": [
    "num_bins=50\n",
    "num_samples=100000\n",
    "mean=[0,0]\n",
    "cov=[\n",
    "    [1,0.8],\n",
    "    [0.8,1]\n",
    "]\n",
    "data=100+10* np.random.multivariate_normal(mean,cov,num_samples) # gen 2d random data points\n",
    "joint_probs,edges=np.histogramdd(data,bins=num_bins)\n",
    "\n",
    "edges=np.array(edges)[:,1:]\n"
   ]
  },
  {
   "cell_type": "code",
   "execution_count": 97,
   "id": "03aff33e-19e7-47b7-a7f5-a41f8dc8164b",
   "metadata": {},
   "outputs": [
    {
     "name": "stdout",
     "output_type": "stream",
     "text": [
      "Cut X and Y on: 25\n"
     ]
    }
   ],
   "source": [
    "cut_point= int(num_bins/2)\n",
    "X_vals=np.array(joint_probs[cut_point])\n",
    "X_vals/=X_vals.sum()\n",
    "\n",
    "Y_vals=np.array([row[cut_point] for row in joint_probs])\n",
    "Y_vals/=Y_vals.sum()\n",
    "\n",
    "print('Cut X and Y on:',cut_point)"
   ]
  },
  {
   "cell_type": "code",
   "execution_count": 98,
   "id": "711bcecb-56b7-4e3e-9459-960a34eeaf00",
   "metadata": {},
   "outputs": [
    {
     "data": {
      "image/png": "[encoded data removed]",
      "text/plain": [
       "<Figure size 432x288 with 1 Axes>"
      ]
     },
     "metadata": {},
     "output_type": "display_data"
    }
   ],
   "source": [
    "plt.bar(edges[0],X_vals)\n",
    "plt.ylabel(\"Frequency\")\n",
    "plt.xlabel('Number')\n",
    "plt.title('Distribution of X_Vals')\n",
    "plt.show()"
   ]
  },
  {
   "cell_type": "code",
   "execution_count": 99,
   "id": "3de1f6cc-d4be-409a-8488-460b513b9ec0",
   "metadata": {},
   "outputs": [],
   "source": [
    "X=edges[0]\n",
    "Y=edges[1]\n",
    "X,Y=np.meshgrid(X,Y)\n",
    "\n",
    "Z=joint_probs/joint_probs.sum()"
   ]
  },
  {
   "cell_type": "code",
   "execution_count": 100,
   "id": "6cfa4122-7aed-44e9-87ee-5efe871829fe",
   "metadata": {},
   "outputs": [
    {
     "data": {
      "text/plain": [
       "Text(0.5, 0, 'Z')"
      ]
     },
     "execution_count": 100,
     "metadata": {},
     "output_type": "execute_result"
    },
    {
     "data": {
      "image/png": "[encoded data removed]",
      "text/plain": [
       "<Figure size 432x288 with 1 Axes>"
      ]
     },
     "metadata": {},
     "output_type": "display_data"
    }
   ],
   "source": [
    "fig=plt.figure()\n",
    "ax=plt.axes(projection='3d')\n",
    "\n",
    "ax.plot_surface(X,Y,Z,rstride=1,cstride=1,cmap='viridis')\n",
    "ax.view_init(45,30)\n",
    "ax.set_xlabel('X')\n",
    "ax.set_ylabel('Y')\n",
    "ax.set_zlabel('Z')"
   ]
  },
  {
   "cell_type": "code",
   "execution_count": 102,
   "id": "a9d1fc4e-dbcf-4e8d-9479-ce34bdc70919",
   "metadata": {},
   "outputs": [
    {
     "data": {
      "image/png": "[encoded data removed]",
      "text/plain": [
       "<Figure size 432x288 with 2 Axes>"
      ]
     },
     "metadata": {},
     "output_type": "display_data"
    }
   ],
   "source": [
    "fig,ax=plt.subplots(1,1)\n",
    "cp=ax.contourf(X,Y,Z)\n",
    "fig.colorbar(cp)#add a colorbar\n",
    "ax.set_title('Contour Plot')\n",
    "ax.set_xlabel('X')\n",
    "ax.set_ylabel('Y')\n",
    "plt.show()"
   ]
  },
  {
   "cell_type": "markdown",
   "id": "ecb130e8-329e-4c8a-9990-d34a7894f76d",
   "metadata": {},
   "source": [
    "**Note:**<br>\n",
    "$1).$ If the contour plot is look more circular then there is no dependencies in x,y coordinate<br>\n",
    "$2).$ The cut always gives conditional probabilties not marginal<br>\n"
   ]
  },
  {
   "cell_type": "markdown",
   "id": "83bff1b6-c118-4a17-8f57-457c667d769d",
   "metadata": {},
   "source": [
    "# Decision Tree \n",
    "Source:https://python-course.eu/machine-learning/decision-trees-in-python.php<br>\n",
    "entropy=$H(x) = -\\sum_{P_i}(P_i*log_2(P_i))$"
   ]
  },
  {
   "cell_type": "code",
   "execution_count": 3,
   "id": "a8638b8e-2338-4fe0-b7aa-bf671c761b48",
   "metadata": {},
   "outputs": [],
   "source": [
    "import pandas as pd\n",
    "import numpy as np\n",
    "from pprint import pprint"
   ]
  },
  {
   "cell_type": "code",
   "execution_count": 5,
   "id": "0e400e73-dd36-4158-a424-d1969525925a",
   "metadata": {},
   "outputs": [],
   "source": [
    "dataset=pd.read_csv('E:/Datasets/zoo.csv', names=['animal_name','hair','feathers','eggs','milk',\n",
    "                                                   'airbone','aquatic','predator','toothed','backbone',\n",
    "                                                  'breathes','venomous','fins','legs','tail','domestic','catsize','class',])"
   ]
  },
  {
   "cell_type": "code",
   "execution_count": 8,
   "id": "16c5be48-0da2-4eb2-ae57-6acafacdb901",
   "metadata": {},
   "outputs": [
    {
     "data": {
      "text/html": [
       "<div>\n",
       "<style scoped>\n",
       "    .dataframe tbody tr th:only-of-type {\n",
       "        vertical-align: middle;\n",
       "    }\n",
       "\n",
       "    .dataframe tbody tr th {\n",
       "        vertical-align: top;\n",
       "    }\n",
       "\n",
       "    .dataframe thead th {\n",
       "        text-align: right;\n",
       "    }\n",
       "</style>\n",
       "<table border=\"1\" class=\"dataframe\">\n",
       "  <thead>\n",
       "    <tr style=\"text-align: right;\">\n",
       "      <th></th>\n",
       "      <th>hair</th>\n",
       "      <th>feathers</th>\n",
       "      <th>eggs</th>\n",
       "      <th>milk</th>\n",
       "      <th>airbone</th>\n",
       "      <th>aquatic</th>\n",
       "      <th>predator</th>\n",
       "      <th>toothed</th>\n",
       "      <th>backbone</th>\n",
       "      <th>breathes</th>\n",
       "      <th>venomous</th>\n",
       "      <th>fins</th>\n",
       "      <th>legs</th>\n",
       "      <th>tail</th>\n",
       "      <th>domestic</th>\n",
       "      <th>catsize</th>\n",
       "      <th>class</th>\n",
       "    </tr>\n",
       "  </thead>\n",
       "  <tbody>\n",
       "    <tr>\n",
       "      <th>0</th>\n",
       "      <td>1</td>\n",
       "      <td>0</td>\n",
       "      <td>0</td>\n",
       "      <td>1</td>\n",
       "      <td>0</td>\n",
       "      <td>0</td>\n",
       "      <td>1</td>\n",
       "      <td>1</td>\n",
       "      <td>1</td>\n",
       "      <td>1</td>\n",
       "      <td>0</td>\n",
       "      <td>0</td>\n",
       "      <td>4</td>\n",
       "      <td>0</td>\n",
       "      <td>0</td>\n",
       "      <td>1</td>\n",
       "      <td>1</td>\n",
       "    </tr>\n",
       "    <tr>\n",
       "      <th>1</th>\n",
       "      <td>1</td>\n",
       "      <td>0</td>\n",
       "      <td>0</td>\n",
       "      <td>1</td>\n",
       "      <td>0</td>\n",
       "      <td>0</td>\n",
       "      <td>0</td>\n",
       "      <td>1</td>\n",
       "      <td>1</td>\n",
       "      <td>1</td>\n",
       "      <td>0</td>\n",
       "      <td>0</td>\n",
       "      <td>4</td>\n",
       "      <td>1</td>\n",
       "      <td>0</td>\n",
       "      <td>1</td>\n",
       "      <td>1</td>\n",
       "    </tr>\n",
       "    <tr>\n",
       "      <th>2</th>\n",
       "      <td>0</td>\n",
       "      <td>0</td>\n",
       "      <td>1</td>\n",
       "      <td>0</td>\n",
       "      <td>0</td>\n",
       "      <td>1</td>\n",
       "      <td>1</td>\n",
       "      <td>1</td>\n",
       "      <td>1</td>\n",
       "      <td>0</td>\n",
       "      <td>0</td>\n",
       "      <td>1</td>\n",
       "      <td>0</td>\n",
       "      <td>1</td>\n",
       "      <td>0</td>\n",
       "      <td>0</td>\n",
       "      <td>4</td>\n",
       "    </tr>\n",
       "    <tr>\n",
       "      <th>3</th>\n",
       "      <td>1</td>\n",
       "      <td>0</td>\n",
       "      <td>0</td>\n",
       "      <td>1</td>\n",
       "      <td>0</td>\n",
       "      <td>0</td>\n",
       "      <td>1</td>\n",
       "      <td>1</td>\n",
       "      <td>1</td>\n",
       "      <td>1</td>\n",
       "      <td>0</td>\n",
       "      <td>0</td>\n",
       "      <td>4</td>\n",
       "      <td>0</td>\n",
       "      <td>0</td>\n",
       "      <td>1</td>\n",
       "      <td>1</td>\n",
       "    </tr>\n",
       "    <tr>\n",
       "      <th>4</th>\n",
       "      <td>1</td>\n",
       "      <td>0</td>\n",
       "      <td>0</td>\n",
       "      <td>1</td>\n",
       "      <td>0</td>\n",
       "      <td>0</td>\n",
       "      <td>1</td>\n",
       "      <td>1</td>\n",
       "      <td>1</td>\n",
       "      <td>1</td>\n",
       "      <td>0</td>\n",
       "      <td>0</td>\n",
       "      <td>4</td>\n",
       "      <td>1</td>\n",
       "      <td>0</td>\n",
       "      <td>1</td>\n",
       "      <td>1</td>\n",
       "    </tr>\n",
       "    <tr>\n",
       "      <th>...</th>\n",
       "      <td>...</td>\n",
       "      <td>...</td>\n",
       "      <td>...</td>\n",
       "      <td>...</td>\n",
       "      <td>...</td>\n",
       "      <td>...</td>\n",
       "      <td>...</td>\n",
       "      <td>...</td>\n",
       "      <td>...</td>\n",
       "      <td>...</td>\n",
       "      <td>...</td>\n",
       "      <td>...</td>\n",
       "      <td>...</td>\n",
       "      <td>...</td>\n",
       "      <td>...</td>\n",
       "      <td>...</td>\n",
       "      <td>...</td>\n",
       "    </tr>\n",
       "    <tr>\n",
       "      <th>96</th>\n",
       "      <td>1</td>\n",
       "      <td>0</td>\n",
       "      <td>0</td>\n",
       "      <td>1</td>\n",
       "      <td>0</td>\n",
       "      <td>0</td>\n",
       "      <td>0</td>\n",
       "      <td>1</td>\n",
       "      <td>1</td>\n",
       "      <td>1</td>\n",
       "      <td>0</td>\n",
       "      <td>0</td>\n",
       "      <td>2</td>\n",
       "      <td>1</td>\n",
       "      <td>0</td>\n",
       "      <td>1</td>\n",
       "      <td>1</td>\n",
       "    </tr>\n",
       "    <tr>\n",
       "      <th>97</th>\n",
       "      <td>1</td>\n",
       "      <td>0</td>\n",
       "      <td>1</td>\n",
       "      <td>0</td>\n",
       "      <td>1</td>\n",
       "      <td>0</td>\n",
       "      <td>0</td>\n",
       "      <td>0</td>\n",
       "      <td>0</td>\n",
       "      <td>1</td>\n",
       "      <td>1</td>\n",
       "      <td>0</td>\n",
       "      <td>6</td>\n",
       "      <td>0</td>\n",
       "      <td>0</td>\n",
       "      <td>0</td>\n",
       "      <td>6</td>\n",
       "    </tr>\n",
       "    <tr>\n",
       "      <th>98</th>\n",
       "      <td>1</td>\n",
       "      <td>0</td>\n",
       "      <td>0</td>\n",
       "      <td>1</td>\n",
       "      <td>0</td>\n",
       "      <td>0</td>\n",
       "      <td>1</td>\n",
       "      <td>1</td>\n",
       "      <td>1</td>\n",
       "      <td>1</td>\n",
       "      <td>0</td>\n",
       "      <td>0</td>\n",
       "      <td>4</td>\n",
       "      <td>1</td>\n",
       "      <td>0</td>\n",
       "      <td>1</td>\n",
       "      <td>1</td>\n",
       "    </tr>\n",
       "    <tr>\n",
       "      <th>99</th>\n",
       "      <td>0</td>\n",
       "      <td>0</td>\n",
       "      <td>1</td>\n",
       "      <td>0</td>\n",
       "      <td>0</td>\n",
       "      <td>0</td>\n",
       "      <td>0</td>\n",
       "      <td>0</td>\n",
       "      <td>0</td>\n",
       "      <td>1</td>\n",
       "      <td>0</td>\n",
       "      <td>0</td>\n",
       "      <td>0</td>\n",
       "      <td>0</td>\n",
       "      <td>0</td>\n",
       "      <td>0</td>\n",
       "      <td>7</td>\n",
       "    </tr>\n",
       "    <tr>\n",
       "      <th>100</th>\n",
       "      <td>0</td>\n",
       "      <td>1</td>\n",
       "      <td>1</td>\n",
       "      <td>0</td>\n",
       "      <td>1</td>\n",
       "      <td>0</td>\n",
       "      <td>0</td>\n",
       "      <td>0</td>\n",
       "      <td>1</td>\n",
       "      <td>1</td>\n",
       "      <td>0</td>\n",
       "      <td>0</td>\n",
       "      <td>2</td>\n",
       "      <td>1</td>\n",
       "      <td>0</td>\n",
       "      <td>0</td>\n",
       "      <td>2</td>\n",
       "    </tr>\n",
       "  </tbody>\n",
       "</table>\n",
       "<p>101 rows × 17 columns</p>\n",
       "</div>"
      ],
      "text/plain": [
       "     hair  feathers  eggs  milk  airbone  aquatic  predator  toothed  \\\n",
       "0       1         0     0     1        0        0         1        1   \n",
       "1       1         0     0     1        0        0         0        1   \n",
       "2       0         0     1     0        0        1         1        1   \n",
       "3       1         0     0     1        0        0         1        1   \n",
       "4       1         0     0     1        0        0         1        1   \n",
       "..    ...       ...   ...   ...      ...      ...       ...      ...   \n",
       "96      1         0     0     1        0        0         0        1   \n",
       "97      1         0     1     0        1        0         0        0   \n",
       "98      1         0     0     1        0        0         1        1   \n",
       "99      0         0     1     0        0        0         0        0   \n",
       "100     0         1     1     0        1        0         0        0   \n",
       "\n",
       "     backbone  breathes  venomous  fins  legs  tail  domestic  catsize  class  \n",
       "0           1         1         0     0     4     0         0        1      1  \n",
       "1           1         1         0     0     4     1         0        1      1  \n",
       "2           1         0         0     1     0     1         0        0      4  \n",
       "3           1         1         0     0     4     0         0        1      1  \n",
       "4           1         1         0     0     4     1         0        1      1  \n",
       "..        ...       ...       ...   ...   ...   ...       ...      ...    ...  \n",
       "96          1         1         0     0     2     1         0        1      1  \n",
       "97          0         1         1     0     6     0         0        0      6  \n",
       "98          1         1         0     0     4     1         0        1      1  \n",
       "99          0         1         0     0     0     0         0        0      7  \n",
       "100         1         1         0     0     2     1         0        0      2  \n",
       "\n",
       "[101 rows x 17 columns]"
      ]
     },
     "execution_count": 8,
     "metadata": {},
     "output_type": "execute_result"
    }
   ],
   "source": [
    "dataset"
   ]
  },
  {
   "cell_type": "code",
   "execution_count": 7,
   "id": "8cc94db0-ce31-42d9-8c52-5f43f02683e9",
   "metadata": {},
   "outputs": [],
   "source": [
    "#notneed name so drop \n",
    "dataset=dataset.drop('animal_name',axis=1)"
   ]
  },
  {
   "cell_type": "code",
   "execution_count": 60,
   "id": "504105ea-7614-4542-9267-018d3b9c6f12",
   "metadata": {},
   "outputs": [],
   "source": [
    "def entropy(target_col):\n",
    "    elements,counts=np.unique(target_col,return_counts=True)\n",
    "    entropy=[];\n",
    "    for i in range(len(elements)):\n",
    "        #frequnecy(counts)/n(sum.of.all.counts) find Probability using freq\n",
    "        p_i=(counts[i]/np.sum(counts))\n",
    "        log_2_X_p_i=np.log2(p_i) \n",
    "        #𝐻(𝑥)=−∑𝑃𝑖(𝑃𝑖∗𝑙𝑜𝑔2(𝑃𝑖))\n",
    "        h_x_i=p_i*log_2_X_p_i\n",
    "        entropy.append(h_x_i)\n",
    "    return -(np.sum(entropy))\n"
   ]
  },
  {
   "cell_type": "code",
   "execution_count": 61,
   "id": "8605a3a9-7351-433e-abfa-eb64e08bc6ff",
   "metadata": {},
   "outputs": [
    {
     "name": "stdout",
     "output_type": "stream",
     "text": [
      "vals: [0 1 2 3 4] counts: [3 1 2 2 2]\n"
     ]
    }
   ],
   "source": [
    "\n",
    "vals,counts=np.unique([0,1,2,0,2,3,4,3,0,4],return_counts=True)\n",
    "\n",
    "print('vals:',vals,'counts:',counts)"
   ]
  },
  {
   "cell_type": "code",
   "execution_count": 62,
   "id": "e50d938e-e14d-4228-89fb-90d80b41f103",
   "metadata": {},
   "outputs": [],
   "source": [
    "def InfoGain(data,split_attribute_name,target_name=\"class\"):\n",
    "    \"\"\"\n",
    "    Calculate the information gain of a dataset. This function takes three parameters:\n",
    "    1. data = The dataset for whose feature the IG should be calculated\n",
    "    2. split_attribute_name = the name of the feature for which the information gain should be calculated\n",
    "    3. target_name = the name of the target feature. The default for this example is \"class\"\n",
    "    \"\"\"    \n",
    "    #Calculate the entropy of the total dataset\n",
    "    total_entropy = entropy(data[target_name])\n",
    "    \n",
    "    ##Calculate the entropy of the dataset\n",
    "    \n",
    "    #Calculate the values and the corresponding counts for the split attribute \n",
    "    vals,counts= np.unique(data[split_attribute_name],return_counts=True)\n",
    "    \n",
    "    #Calculate the weighted entropy\n",
    "    arr_ent=[]\n",
    "    for i in range(len(vals)):\n",
    "        #total true/total(true+false)\n",
    "        p=(counts[i]/np.sum(counts))\n",
    "        #calculate entropy of ith index after droping null value\n",
    "        value=data.where(data[split_attribute_name]==vals[i])\n",
    "        value.dropna()[target_name]\n",
    "        h_i=entropy(value)\n",
    "        arr_ent.append(p*h_i)\n",
    "    Weighted_Entropy =np.sum(arr_ent)       \n",
    "    #Calculate the information gain\n",
    "    Information_Gain = total_entropy - Weighted_Entropy\n",
    "    return Information_Gain"
   ]
  },
  {
   "cell_type": "code",
   "execution_count": 63,
   "id": "bf1d1036-d131-40cc-9a51-0b39d32950d7",
   "metadata": {},
   "outputs": [
    {
     "name": "stdout",
     "output_type": "stream",
     "text": [
      "75\n",
      "3\n"
     ]
    }
   ],
   "source": [
    "a=[1,2,3,75,68,45,66]\n",
    "print(np.max(a))\n",
    "print(np.argmax(a))"
   ]
  },
  {
   "cell_type": "code",
   "execution_count": 64,
   "id": "008aaaf3-16e6-4722-8db5-f744e21af7b8",
   "metadata": {},
   "outputs": [],
   "source": [
    "def ID3(data,originaldata,features,target_attribute_name=\"class\",parent_node_class = None):\n",
    "    \"\"\"\n",
    "    ID3 Algorithm: This function takes five paramters:\n",
    "    1. data = the data for which the ID3 algorithm should be run --> In the first run this equals the total dataset\n",
    " \n",
    "    2. originaldata = This is the original dataset needed to calculate the mode target feature value of the original dataset\n",
    "    in the case the dataset delivered by the first parameter is empty\n",
    "\n",
    "    3. features = the feature space of the dataset . This is needed for the recursive call since during the tree growing process\n",
    "    we have to remove features from our dataset --> Splitting at each node\n",
    "\n",
    "    4. target_attribute_name = the name of the target attribute\n",
    "\n",
    "    5. parent_node_class = This is the value or class of the mode target feature value of the parent node for a specific node. This is \n",
    "    also needed for the recursive call since if the splitting leads to a situation that there are no more features left in the feature\n",
    "    space, we want to return the mode target feature value of the direct parent node.\n",
    "    \"\"\"   \n",
    "    #Define the stopping criteria --> If one of this is satisfied, we want to return a leaf node#\n",
    "    \n",
    "    #If all target_values have the same value, return this value\n",
    "    if len(np.unique(data[target_attribute_name])) <= 1:\n",
    "        return np.unique(data[target_attribute_name])[0]\n",
    "    \n",
    "    #If the dataset is empty, return the mode target feature value in the original dataset\n",
    "    elif len(data)==0:\n",
    "        atr_name=originaldata[target_attribute_name]\n",
    "        index_highest_value=np.argmax(np.unique(atr_name,return_counts=True)[1])\n",
    "        return np.unique(atr_name)[index_highest_value]\n",
    "    \n",
    "    #If the feature space is empty, return the mode target feature value of the direct parent node --> Note that\n",
    "    #the direct parent node is that node which has called the current run of the ID3 algorithm and hence\n",
    "    #the mode target feature value is stored in the parent_node_class variable.\n",
    "    \n",
    "    elif len(features) ==0:\n",
    "        return parent_node_class\n",
    "    \n",
    "    #If none of the above holds true, grow the tree!\n",
    "    \n",
    "    else:\n",
    "        #Set the default value for this node --> The mode target feature value of the current node\n",
    "        index_highest_value=np.argmax(np.unique(data[target_attribute_name],return_counts=True)[1])\n",
    "        parent_node_class = np.unique(data[target_attribute_name])[index_highest_value]\n",
    "        \n",
    "        #Select the feature which best splits the dataset\n",
    "        item_values = [InfoGain(data,feature,target_attribute_name) for feature in features] #Return the information gain values for the features in the dataset\n",
    "        best_feature_index = np.argmax(item_values)\n",
    "        best_feature = features[best_feature_index]\n",
    "        \n",
    "        #Create the tree structure. The root gets the name of the feature (best_feature) with the maximum information\n",
    "        #gain in the first run\n",
    "        tree = {best_feature:{}}\n",
    "        \n",
    "        \n",
    "        #Remove the feature with the best inforamtion gain from the feature space\n",
    "        features = [i for i in features if i != best_feature]\n",
    "        \n",
    "        #Grow a branch under the root node for each possible value of the root node feature\n",
    "        \n",
    "        for value in np.unique(data[best_feature]):\n",
    "            value = value\n",
    "            #Split the dataset along the value of the feature with the largest information gain and therwith create sub_datasets\n",
    "            sub_data = data.where(data[best_feature] == value).dropna()\n",
    "            \n",
    "            #Call the ID3 algorithm for each of those sub_datasets with the new parameters --> Here the recursion comes in!\n",
    "            subtree = ID3(sub_data,dataset,features,target_attribute_name,parent_node_class)\n",
    "            \n",
    "            #Add the sub tree, grown from the sub_dataset to the tree under the root node\n",
    "            tree[best_feature][value] = subtree\n",
    "            \n",
    "        return(tree)   "
   ]
  },
  {
   "cell_type": "code",
   "execution_count": 65,
   "id": "831b42d0-e179-45b1-8507-ad7f8405dbc4",
   "metadata": {},
   "outputs": [],
   "source": [
    "def predict(query,tree,default = 1):\n",
    "      for key in list(query.keys()):\n",
    "        if key in list(tree.keys()):\n",
    "            #2.\n",
    "            try:\n",
    "                result = tree[key][query[key]] \n",
    "            except:\n",
    "                return default\n",
    "  \n",
    "            #3.\n",
    "            result = tree[key][query[key]]\n",
    "            #4.\n",
    "            if isinstance(result,dict):\n",
    "                return predict(query,result)\n",
    "\n",
    "            else:\n",
    "                return result\n",
    "    "
   ]
  },
  {
   "cell_type": "code",
   "execution_count": 66,
   "id": "64d9cc67-bdd3-4dfb-96ef-29c89c9f947f",
   "metadata": {},
   "outputs": [],
   "source": [
    "def train_test_split(dataset):\n",
    "    training_data = dataset.iloc[:80].reset_index(drop=True)#We drop the index respectively relabel the index\n",
    "    #starting form 0, because we do not want to run into errors regarding the row labels / indexes\n",
    "    testing_data = dataset.iloc[80:].reset_index(drop=True)\n",
    "    return training_data,testing_data\n",
    "\n",
    "training_data = train_test_split(dataset)[0]\n",
    "testing_data = train_test_split(dataset)[1] "
   ]
  },
  {
   "cell_type": "code",
   "execution_count": 67,
   "id": "9203f893-411c-4494-b410-31e8f5e5e0ff",
   "metadata": {},
   "outputs": [],
   "source": [
    "def test(data,tree):\n",
    "    #Create new query instances by simply removing the target feature column from the original dataset and \n",
    "    #convert it to a dictionary\n",
    "    queries = data.iloc[:,:-1].to_dict(orient = \"records\")\n",
    "    \n",
    "    #Create a empty DataFrame in whose columns the prediction of the tree are stored\n",
    "    predicted = pd.DataFrame(columns=[\"predicted\"]) \n",
    "    \n",
    "    #Calculate the prediction accuracy\n",
    "    for i in range(len(data)):\n",
    "        predicted.loc[i,\"predicted\"] = predict(queries[i],tree,1.0) \n",
    "    print('The prediction accuracy is: ',(np.sum(predicted[\"predicted\"] == data[\"class\"])/len(data))*100,'%')"
   ]
  },
  {
   "cell_type": "code",
   "execution_count": 68,
   "id": "6fef9065-3018-42ad-9d0a-92cde88b5eb3",
   "metadata": {},
   "outputs": [
    {
     "name": "stdout",
     "output_type": "stream",
     "text": [
      "{'legs': {0: {'feathers': {0.0: {'airbone': {0.0: {'domestic': {0.0: {'hair': {0.0: {'toothed': {0.0: 7.0,\n",
      "                                                                                                 1.0: {'backbone': {1.0: {'tail': {1.0: {'aquatic': {0.0: 3.0,\n",
      "                                                                                                                                                     1.0: {'venomous': {0.0: {'fins': {1.0: {'predator': {0.0: 4.0,\n",
      "                                                                                                                                                                                                          1.0: {'eggs': {0.0: 1.0,\n",
      "                                                                                                                                                                                                                         1.0: 4.0}}}}}},\n",
      "                                                                                                                                                                        1.0: 3.0}}}}}}}}}},\n",
      "                                                                               1.0: 1.0}},\n",
      "                                                                1.0: 4.0}}}}}},\n",
      "          2: {'backbone': {1.0: {'breathes': {1.0: {'venomous': {0.0: {'fins': {0.0: {'tail': {0.0: 1.0,\n",
      "                                                                                               1.0: {'hair': {0.0: 2.0,\n",
      "                                                                                                              1.0: 1.0}}}},\n",
      "                                                                                1.0: 1.0}}}}}}}},\n",
      "          4: {'feathers': {0.0: {'airbone': {0.0: {'fins': {0.0: {'backbone': {0.0: 7.0,\n",
      "                                                                               1.0: {'breathes': {1.0: {'venomous': {0.0: {'toothed': {0.0: 1.0,\n",
      "                                                                                                                                       1.0: {'hair': {0.0: 5.0,\n",
      "                                                                                                                                                      1.0: 1.0}}}},\n",
      "                                                                                                                     1.0: 5.0}}}}}}}}}}}},\n",
      "          6: {'feathers': {0.0: {'eggs': {1.0: {'milk': {0.0: {'toothed': {0.0: {'backbone': {0.0: {'fins': {0.0: {'tail': {0.0: {'catsize': {0.0: {'venomous': {0.0: {'domestic': {0.0: {'aquatic': {0.0: 6.0,\n",
      "                                                                                                                                                                                                      1.0: 7.0}}}},\n",
      "                                                                                                                                                                 1.0: 6.0}}}}}}}}}}}}}}}}}},\n",
      "          8: 7.0}}\n",
      "The prediction accuracy is:  80.95238095238095 %\n"
     ]
    }
   ],
   "source": [
    "tree = ID3(training_data,training_data,training_data.columns[:-1])\n",
    "pprint(tree)\n",
    "test(testing_data,tree)"
   ]
  },
  {
   "cell_type": "code",
   "execution_count": null,
   "id": "e3662b6f-04ed-4c02-afa2-b7ecb6f02374",
   "metadata": {},
   "outputs": [],
   "source": []
  }
 ],
 "metadata": {
  "kernelspec": {
   "display_name": "Python 3 (ipykernel)",
   "language": "python",
   "name": "python3"
  },
  "language_info": {
   "codemirror_mode": {
    "name": "ipython",
    "version": 3
   },
   "file_extension": ".py",
   "mimetype": "text/x-python",
   "name": "python",
   "nbconvert_exporter": "python",
   "pygments_lexer": "ipython3",
   "version": "3.9.7"
  },
  "varInspector": {
   "cols": {
    "lenName": 16,
    "lenType": 16,
    "lenVar": 40
   },
   "kernels_config": {
    "python": {
     "delete_cmd_postfix": "",
     "delete_cmd_prefix": "del ",
     "library": "var_list.py",
     "varRefreshCmd": "print(var_dic_list())"
    },
    "r": {
     "delete_cmd_postfix": ") ",
     "delete_cmd_prefix": "rm(",
     "library": "var_list.r",
     "varRefreshCmd": "cat(var_dic_list()) "
    }
   },
   "types_to_exclude": [
    "module",
    "function",
    "builtin_function_or_method",
    "instance",
    "_Feature"
   ],
   "window_display": false
  },
  "widgets": {
   "application/vnd.jupyter.widget-state+json": {
    "state": {},
    "version_major": 2,
    "version_minor": 0
   }
  }
 },
 "nbformat": 4,
 "nbformat_minor": 5
}
